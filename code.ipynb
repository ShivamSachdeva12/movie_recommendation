{
 "cells": [
  {
   "cell_type": "code",
   "execution_count": 1980,
   "id": "f50eaead-6d3a-4e0a-852e-85665b345787",
   "metadata": {},
   "outputs": [],
   "source": [
    "import pandas as pd\n",
    "import numpy as np\n",
    "\n",
    "df1=pd.read_csv('tmdb_5000_credits.csv.zip')\n",
    "df2=pd.read_csv('tmdb_5000_movies.csv.zip')"
   ]
  },
  {
   "cell_type": "code",
   "execution_count": 1981,
   "id": "0196a71e-f941-409b-821b-4665e59780f4",
   "metadata": {},
   "outputs": [
    {
     "data": {
      "text/html": [
       "<div>\n",
       "<style scoped>\n",
       "    .dataframe tbody tr th:only-of-type {\n",
       "        vertical-align: middle;\n",
       "    }\n",
       "\n",
       "    .dataframe tbody tr th {\n",
       "        vertical-align: top;\n",
       "    }\n",
       "\n",
       "    .dataframe thead th {\n",
       "        text-align: right;\n",
       "    }\n",
       "</style>\n",
       "<table border=\"1\" class=\"dataframe\">\n",
       "  <thead>\n",
       "    <tr style=\"text-align: right;\">\n",
       "      <th></th>\n",
       "      <th>budget</th>\n",
       "      <th>genres</th>\n",
       "      <th>homepage</th>\n",
       "      <th>id</th>\n",
       "      <th>keywords</th>\n",
       "      <th>original_language</th>\n",
       "      <th>original_title</th>\n",
       "      <th>overview</th>\n",
       "      <th>popularity</th>\n",
       "      <th>production_companies</th>\n",
       "      <th>production_countries</th>\n",
       "      <th>release_date</th>\n",
       "      <th>revenue</th>\n",
       "      <th>runtime</th>\n",
       "      <th>spoken_languages</th>\n",
       "      <th>status</th>\n",
       "      <th>tagline</th>\n",
       "      <th>title</th>\n",
       "      <th>vote_average</th>\n",
       "      <th>vote_count</th>\n",
       "    </tr>\n",
       "  </thead>\n",
       "  <tbody>\n",
       "    <tr>\n",
       "      <th>0</th>\n",
       "      <td>237000000</td>\n",
       "      <td>[{\"id\": 28, \"name\": \"Action\"}, {\"id\": 12, \"nam...</td>\n",
       "      <td>http://www.avatarmovie.com/</td>\n",
       "      <td>19995</td>\n",
       "      <td>[{\"id\": 1463, \"name\": \"culture clash\"}, {\"id\":...</td>\n",
       "      <td>en</td>\n",
       "      <td>Avatar</td>\n",
       "      <td>In the 22nd century, a paraplegic Marine is di...</td>\n",
       "      <td>150.437577</td>\n",
       "      <td>[{\"name\": \"Ingenious Film Partners\", \"id\": 289...</td>\n",
       "      <td>[{\"iso_3166_1\": \"US\", \"name\": \"United States o...</td>\n",
       "      <td>2009-12-10</td>\n",
       "      <td>2787965087</td>\n",
       "      <td>162.0</td>\n",
       "      <td>[{\"iso_639_1\": \"en\", \"name\": \"English\"}, {\"iso...</td>\n",
       "      <td>Released</td>\n",
       "      <td>Enter the World of Pandora.</td>\n",
       "      <td>Avatar</td>\n",
       "      <td>7.2</td>\n",
       "      <td>11800</td>\n",
       "    </tr>\n",
       "    <tr>\n",
       "      <th>1</th>\n",
       "      <td>300000000</td>\n",
       "      <td>[{\"id\": 12, \"name\": \"Adventure\"}, {\"id\": 14, \"...</td>\n",
       "      <td>http://disney.go.com/disneypictures/pirates/</td>\n",
       "      <td>285</td>\n",
       "      <td>[{\"id\": 270, \"name\": \"ocean\"}, {\"id\": 726, \"na...</td>\n",
       "      <td>en</td>\n",
       "      <td>Pirates of the Caribbean: At World's End</td>\n",
       "      <td>Captain Barbossa, long believed to be dead, ha...</td>\n",
       "      <td>139.082615</td>\n",
       "      <td>[{\"name\": \"Walt Disney Pictures\", \"id\": 2}, {\"...</td>\n",
       "      <td>[{\"iso_3166_1\": \"US\", \"name\": \"United States o...</td>\n",
       "      <td>2007-05-19</td>\n",
       "      <td>961000000</td>\n",
       "      <td>169.0</td>\n",
       "      <td>[{\"iso_639_1\": \"en\", \"name\": \"English\"}]</td>\n",
       "      <td>Released</td>\n",
       "      <td>At the end of the world, the adventure begins.</td>\n",
       "      <td>Pirates of the Caribbean: At World's End</td>\n",
       "      <td>6.9</td>\n",
       "      <td>4500</td>\n",
       "    </tr>\n",
       "    <tr>\n",
       "      <th>2</th>\n",
       "      <td>245000000</td>\n",
       "      <td>[{\"id\": 28, \"name\": \"Action\"}, {\"id\": 12, \"nam...</td>\n",
       "      <td>http://www.sonypictures.com/movies/spectre/</td>\n",
       "      <td>206647</td>\n",
       "      <td>[{\"id\": 470, \"name\": \"spy\"}, {\"id\": 818, \"name...</td>\n",
       "      <td>en</td>\n",
       "      <td>Spectre</td>\n",
       "      <td>A cryptic message from Bond’s past sends him o...</td>\n",
       "      <td>107.376788</td>\n",
       "      <td>[{\"name\": \"Columbia Pictures\", \"id\": 5}, {\"nam...</td>\n",
       "      <td>[{\"iso_3166_1\": \"GB\", \"name\": \"United Kingdom\"...</td>\n",
       "      <td>2015-10-26</td>\n",
       "      <td>880674609</td>\n",
       "      <td>148.0</td>\n",
       "      <td>[{\"iso_639_1\": \"fr\", \"name\": \"Fran\\u00e7ais\"},...</td>\n",
       "      <td>Released</td>\n",
       "      <td>A Plan No One Escapes</td>\n",
       "      <td>Spectre</td>\n",
       "      <td>6.3</td>\n",
       "      <td>4466</td>\n",
       "    </tr>\n",
       "    <tr>\n",
       "      <th>3</th>\n",
       "      <td>250000000</td>\n",
       "      <td>[{\"id\": 28, \"name\": \"Action\"}, {\"id\": 80, \"nam...</td>\n",
       "      <td>http://www.thedarkknightrises.com/</td>\n",
       "      <td>49026</td>\n",
       "      <td>[{\"id\": 849, \"name\": \"dc comics\"}, {\"id\": 853,...</td>\n",
       "      <td>en</td>\n",
       "      <td>The Dark Knight Rises</td>\n",
       "      <td>Following the death of District Attorney Harve...</td>\n",
       "      <td>112.312950</td>\n",
       "      <td>[{\"name\": \"Legendary Pictures\", \"id\": 923}, {\"...</td>\n",
       "      <td>[{\"iso_3166_1\": \"US\", \"name\": \"United States o...</td>\n",
       "      <td>2012-07-16</td>\n",
       "      <td>1084939099</td>\n",
       "      <td>165.0</td>\n",
       "      <td>[{\"iso_639_1\": \"en\", \"name\": \"English\"}]</td>\n",
       "      <td>Released</td>\n",
       "      <td>The Legend Ends</td>\n",
       "      <td>The Dark Knight Rises</td>\n",
       "      <td>7.6</td>\n",
       "      <td>9106</td>\n",
       "    </tr>\n",
       "    <tr>\n",
       "      <th>4</th>\n",
       "      <td>260000000</td>\n",
       "      <td>[{\"id\": 28, \"name\": \"Action\"}, {\"id\": 12, \"nam...</td>\n",
       "      <td>http://movies.disney.com/john-carter</td>\n",
       "      <td>49529</td>\n",
       "      <td>[{\"id\": 818, \"name\": \"based on novel\"}, {\"id\":...</td>\n",
       "      <td>en</td>\n",
       "      <td>John Carter</td>\n",
       "      <td>John Carter is a war-weary, former military ca...</td>\n",
       "      <td>43.926995</td>\n",
       "      <td>[{\"name\": \"Walt Disney Pictures\", \"id\": 2}]</td>\n",
       "      <td>[{\"iso_3166_1\": \"US\", \"name\": \"United States o...</td>\n",
       "      <td>2012-03-07</td>\n",
       "      <td>284139100</td>\n",
       "      <td>132.0</td>\n",
       "      <td>[{\"iso_639_1\": \"en\", \"name\": \"English\"}]</td>\n",
       "      <td>Released</td>\n",
       "      <td>Lost in our world, found in another.</td>\n",
       "      <td>John Carter</td>\n",
       "      <td>6.1</td>\n",
       "      <td>2124</td>\n",
       "    </tr>\n",
       "  </tbody>\n",
       "</table>\n",
       "</div>"
      ],
      "text/plain": [
       "      budget                                             genres  \\\n",
       "0  237000000  [{\"id\": 28, \"name\": \"Action\"}, {\"id\": 12, \"nam...   \n",
       "1  300000000  [{\"id\": 12, \"name\": \"Adventure\"}, {\"id\": 14, \"...   \n",
       "2  245000000  [{\"id\": 28, \"name\": \"Action\"}, {\"id\": 12, \"nam...   \n",
       "3  250000000  [{\"id\": 28, \"name\": \"Action\"}, {\"id\": 80, \"nam...   \n",
       "4  260000000  [{\"id\": 28, \"name\": \"Action\"}, {\"id\": 12, \"nam...   \n",
       "\n",
       "                                       homepage      id  \\\n",
       "0                   http://www.avatarmovie.com/   19995   \n",
       "1  http://disney.go.com/disneypictures/pirates/     285   \n",
       "2   http://www.sonypictures.com/movies/spectre/  206647   \n",
       "3            http://www.thedarkknightrises.com/   49026   \n",
       "4          http://movies.disney.com/john-carter   49529   \n",
       "\n",
       "                                            keywords original_language  \\\n",
       "0  [{\"id\": 1463, \"name\": \"culture clash\"}, {\"id\":...                en   \n",
       "1  [{\"id\": 270, \"name\": \"ocean\"}, {\"id\": 726, \"na...                en   \n",
       "2  [{\"id\": 470, \"name\": \"spy\"}, {\"id\": 818, \"name...                en   \n",
       "3  [{\"id\": 849, \"name\": \"dc comics\"}, {\"id\": 853,...                en   \n",
       "4  [{\"id\": 818, \"name\": \"based on novel\"}, {\"id\":...                en   \n",
       "\n",
       "                             original_title  \\\n",
       "0                                    Avatar   \n",
       "1  Pirates of the Caribbean: At World's End   \n",
       "2                                   Spectre   \n",
       "3                     The Dark Knight Rises   \n",
       "4                               John Carter   \n",
       "\n",
       "                                            overview  popularity  \\\n",
       "0  In the 22nd century, a paraplegic Marine is di...  150.437577   \n",
       "1  Captain Barbossa, long believed to be dead, ha...  139.082615   \n",
       "2  A cryptic message from Bond’s past sends him o...  107.376788   \n",
       "3  Following the death of District Attorney Harve...  112.312950   \n",
       "4  John Carter is a war-weary, former military ca...   43.926995   \n",
       "\n",
       "                                production_companies  \\\n",
       "0  [{\"name\": \"Ingenious Film Partners\", \"id\": 289...   \n",
       "1  [{\"name\": \"Walt Disney Pictures\", \"id\": 2}, {\"...   \n",
       "2  [{\"name\": \"Columbia Pictures\", \"id\": 5}, {\"nam...   \n",
       "3  [{\"name\": \"Legendary Pictures\", \"id\": 923}, {\"...   \n",
       "4        [{\"name\": \"Walt Disney Pictures\", \"id\": 2}]   \n",
       "\n",
       "                                production_countries release_date     revenue  \\\n",
       "0  [{\"iso_3166_1\": \"US\", \"name\": \"United States o...   2009-12-10  2787965087   \n",
       "1  [{\"iso_3166_1\": \"US\", \"name\": \"United States o...   2007-05-19   961000000   \n",
       "2  [{\"iso_3166_1\": \"GB\", \"name\": \"United Kingdom\"...   2015-10-26   880674609   \n",
       "3  [{\"iso_3166_1\": \"US\", \"name\": \"United States o...   2012-07-16  1084939099   \n",
       "4  [{\"iso_3166_1\": \"US\", \"name\": \"United States o...   2012-03-07   284139100   \n",
       "\n",
       "   runtime                                   spoken_languages    status  \\\n",
       "0    162.0  [{\"iso_639_1\": \"en\", \"name\": \"English\"}, {\"iso...  Released   \n",
       "1    169.0           [{\"iso_639_1\": \"en\", \"name\": \"English\"}]  Released   \n",
       "2    148.0  [{\"iso_639_1\": \"fr\", \"name\": \"Fran\\u00e7ais\"},...  Released   \n",
       "3    165.0           [{\"iso_639_1\": \"en\", \"name\": \"English\"}]  Released   \n",
       "4    132.0           [{\"iso_639_1\": \"en\", \"name\": \"English\"}]  Released   \n",
       "\n",
       "                                          tagline  \\\n",
       "0                     Enter the World of Pandora.   \n",
       "1  At the end of the world, the adventure begins.   \n",
       "2                           A Plan No One Escapes   \n",
       "3                                 The Legend Ends   \n",
       "4            Lost in our world, found in another.   \n",
       "\n",
       "                                      title  vote_average  vote_count  \n",
       "0                                    Avatar           7.2       11800  \n",
       "1  Pirates of the Caribbean: At World's End           6.9        4500  \n",
       "2                                   Spectre           6.3        4466  \n",
       "3                     The Dark Knight Rises           7.6        9106  \n",
       "4                               John Carter           6.1        2124  "
      ]
     },
     "execution_count": 1981,
     "metadata": {},
     "output_type": "execute_result"
    }
   ],
   "source": [
    "df2.head()"
   ]
  },
  {
   "cell_type": "code",
   "execution_count": 1982,
   "id": "2519f3c4-d6d4-4b11-83eb-ff9dc6fbf78d",
   "metadata": {},
   "outputs": [
    {
     "data": {
      "text/html": [
       "<div>\n",
       "<style scoped>\n",
       "    .dataframe tbody tr th:only-of-type {\n",
       "        vertical-align: middle;\n",
       "    }\n",
       "\n",
       "    .dataframe tbody tr th {\n",
       "        vertical-align: top;\n",
       "    }\n",
       "\n",
       "    .dataframe thead th {\n",
       "        text-align: right;\n",
       "    }\n",
       "</style>\n",
       "<table border=\"1\" class=\"dataframe\">\n",
       "  <thead>\n",
       "    <tr style=\"text-align: right;\">\n",
       "      <th></th>\n",
       "      <th>movie_id</th>\n",
       "      <th>title</th>\n",
       "      <th>cast</th>\n",
       "      <th>crew</th>\n",
       "    </tr>\n",
       "  </thead>\n",
       "  <tbody>\n",
       "    <tr>\n",
       "      <th>0</th>\n",
       "      <td>19995</td>\n",
       "      <td>Avatar</td>\n",
       "      <td>[{\"cast_id\": 242, \"character\": \"Jake Sully\", \"...</td>\n",
       "      <td>[{\"credit_id\": \"52fe48009251416c750aca23\", \"de...</td>\n",
       "    </tr>\n",
       "    <tr>\n",
       "      <th>1</th>\n",
       "      <td>285</td>\n",
       "      <td>Pirates of the Caribbean: At World's End</td>\n",
       "      <td>[{\"cast_id\": 4, \"character\": \"Captain Jack Spa...</td>\n",
       "      <td>[{\"credit_id\": \"52fe4232c3a36847f800b579\", \"de...</td>\n",
       "    </tr>\n",
       "    <tr>\n",
       "      <th>2</th>\n",
       "      <td>206647</td>\n",
       "      <td>Spectre</td>\n",
       "      <td>[{\"cast_id\": 1, \"character\": \"James Bond\", \"cr...</td>\n",
       "      <td>[{\"credit_id\": \"54805967c3a36829b5002c41\", \"de...</td>\n",
       "    </tr>\n",
       "    <tr>\n",
       "      <th>3</th>\n",
       "      <td>49026</td>\n",
       "      <td>The Dark Knight Rises</td>\n",
       "      <td>[{\"cast_id\": 2, \"character\": \"Bruce Wayne / Ba...</td>\n",
       "      <td>[{\"credit_id\": \"52fe4781c3a36847f81398c3\", \"de...</td>\n",
       "    </tr>\n",
       "    <tr>\n",
       "      <th>4</th>\n",
       "      <td>49529</td>\n",
       "      <td>John Carter</td>\n",
       "      <td>[{\"cast_id\": 5, \"character\": \"John Carter\", \"c...</td>\n",
       "      <td>[{\"credit_id\": \"52fe479ac3a36847f813eaa3\", \"de...</td>\n",
       "    </tr>\n",
       "  </tbody>\n",
       "</table>\n",
       "</div>"
      ],
      "text/plain": [
       "   movie_id                                     title  \\\n",
       "0     19995                                    Avatar   \n",
       "1       285  Pirates of the Caribbean: At World's End   \n",
       "2    206647                                   Spectre   \n",
       "3     49026                     The Dark Knight Rises   \n",
       "4     49529                               John Carter   \n",
       "\n",
       "                                                cast  \\\n",
       "0  [{\"cast_id\": 242, \"character\": \"Jake Sully\", \"...   \n",
       "1  [{\"cast_id\": 4, \"character\": \"Captain Jack Spa...   \n",
       "2  [{\"cast_id\": 1, \"character\": \"James Bond\", \"cr...   \n",
       "3  [{\"cast_id\": 2, \"character\": \"Bruce Wayne / Ba...   \n",
       "4  [{\"cast_id\": 5, \"character\": \"John Carter\", \"c...   \n",
       "\n",
       "                                                crew  \n",
       "0  [{\"credit_id\": \"52fe48009251416c750aca23\", \"de...  \n",
       "1  [{\"credit_id\": \"52fe4232c3a36847f800b579\", \"de...  \n",
       "2  [{\"credit_id\": \"54805967c3a36829b5002c41\", \"de...  \n",
       "3  [{\"credit_id\": \"52fe4781c3a36847f81398c3\", \"de...  \n",
       "4  [{\"credit_id\": \"52fe479ac3a36847f813eaa3\", \"de...  "
      ]
     },
     "execution_count": 1982,
     "metadata": {},
     "output_type": "execute_result"
    }
   ],
   "source": [
    "df1.head()"
   ]
  },
  {
   "cell_type": "code",
   "execution_count": 1983,
   "id": "a1c03fd0-18c2-42ee-8a94-1d4df292ff8c",
   "metadata": {},
   "outputs": [],
   "source": [
    "df=df1.merge(df2,on=['title'])"
   ]
  },
  {
   "cell_type": "code",
   "execution_count": 1984,
   "id": "5efa77ce-51f8-4182-9152-eae5ff0049c8",
   "metadata": {
    "scrolled": true
   },
   "outputs": [
    {
     "data": {
      "text/plain": [
       "movie_id                   0\n",
       "title                      0\n",
       "cast                       0\n",
       "crew                       0\n",
       "budget                     0\n",
       "genres                     0\n",
       "homepage                3096\n",
       "id                         0\n",
       "keywords                   0\n",
       "original_language          0\n",
       "original_title             0\n",
       "overview                   3\n",
       "popularity                 0\n",
       "production_companies       0\n",
       "production_countries       0\n",
       "release_date               1\n",
       "revenue                    0\n",
       "runtime                    2\n",
       "spoken_languages           0\n",
       "status                     0\n",
       "tagline                  844\n",
       "vote_average               0\n",
       "vote_count                 0\n",
       "dtype: int64"
      ]
     },
     "execution_count": 1984,
     "metadata": {},
     "output_type": "execute_result"
    }
   ],
   "source": [
    "df.isnull().sum()"
   ]
  },
  {
   "cell_type": "code",
   "execution_count": 1985,
   "id": "88661679-eada-422f-bdc9-720721f161b0",
   "metadata": {},
   "outputs": [
    {
     "data": {
      "text/plain": [
       "0"
      ]
     },
     "execution_count": 1985,
     "metadata": {},
     "output_type": "execute_result"
    }
   ],
   "source": [
    "df.duplicated().sum()"
   ]
  },
  {
   "cell_type": "code",
   "execution_count": 1986,
   "id": "a49cffba-98cf-4951-a42b-4b677a11acbc",
   "metadata": {},
   "outputs": [],
   "source": [
    "df.drop(columns=['movie_id','budget','homepage','id','tagline','production_countries','release_date','spoken_languages','status','vote_count'],inplace=True)"
   ]
  },
  {
   "cell_type": "code",
   "execution_count": 1987,
   "id": "4203de49-4a23-4594-ba80-b34435c80cae",
   "metadata": {},
   "outputs": [
    {
     "data": {
      "text/plain": [
       "title                   0\n",
       "cast                    0\n",
       "crew                    0\n",
       "genres                  0\n",
       "keywords                0\n",
       "original_language       0\n",
       "original_title          0\n",
       "overview                3\n",
       "popularity              0\n",
       "production_companies    0\n",
       "revenue                 0\n",
       "runtime                 2\n",
       "vote_average            0\n",
       "dtype: int64"
      ]
     },
     "execution_count": 1987,
     "metadata": {},
     "output_type": "execute_result"
    }
   ],
   "source": [
    "df.isnull().sum()"
   ]
  },
  {
   "cell_type": "code",
   "execution_count": 1988,
   "id": "1c10d3c7-b01a-42d3-8565-cf4718ca9e96",
   "metadata": {},
   "outputs": [
    {
     "data": {
      "text/plain": [
       "Index(['title', 'cast', 'crew', 'genres', 'keywords', 'original_language',\n",
       "       'original_title', 'overview', 'popularity', 'production_companies',\n",
       "       'revenue', 'runtime', 'vote_average'],\n",
       "      dtype='object')"
      ]
     },
     "execution_count": 1988,
     "metadata": {},
     "output_type": "execute_result"
    }
   ],
   "source": [
    "df.columns"
   ]
  },
  {
   "cell_type": "code",
   "execution_count": 1989,
   "id": "43590ddd-4fec-418b-9309-1989ddcedd80",
   "metadata": {},
   "outputs": [
    {
     "data": {
      "text/html": [
       "<div>\n",
       "<style scoped>\n",
       "    .dataframe tbody tr th:only-of-type {\n",
       "        vertical-align: middle;\n",
       "    }\n",
       "\n",
       "    .dataframe tbody tr th {\n",
       "        vertical-align: top;\n",
       "    }\n",
       "\n",
       "    .dataframe thead th {\n",
       "        text-align: right;\n",
       "    }\n",
       "</style>\n",
       "<table border=\"1\" class=\"dataframe\">\n",
       "  <thead>\n",
       "    <tr style=\"text-align: right;\">\n",
       "      <th></th>\n",
       "      <th>title</th>\n",
       "      <th>cast</th>\n",
       "      <th>crew</th>\n",
       "      <th>genres</th>\n",
       "      <th>keywords</th>\n",
       "      <th>original_language</th>\n",
       "      <th>original_title</th>\n",
       "      <th>overview</th>\n",
       "      <th>popularity</th>\n",
       "      <th>production_companies</th>\n",
       "      <th>revenue</th>\n",
       "      <th>runtime</th>\n",
       "      <th>vote_average</th>\n",
       "    </tr>\n",
       "  </thead>\n",
       "  <tbody>\n",
       "    <tr>\n",
       "      <th>0</th>\n",
       "      <td>Avatar</td>\n",
       "      <td>[{\"cast_id\": 242, \"character\": \"Jake Sully\", \"...</td>\n",
       "      <td>[{\"credit_id\": \"52fe48009251416c750aca23\", \"de...</td>\n",
       "      <td>[{\"id\": 28, \"name\": \"Action\"}, {\"id\": 12, \"nam...</td>\n",
       "      <td>[{\"id\": 1463, \"name\": \"culture clash\"}, {\"id\":...</td>\n",
       "      <td>en</td>\n",
       "      <td>Avatar</td>\n",
       "      <td>In the 22nd century, a paraplegic Marine is di...</td>\n",
       "      <td>150.437577</td>\n",
       "      <td>[{\"name\": \"Ingenious Film Partners\", \"id\": 289...</td>\n",
       "      <td>2787965087</td>\n",
       "      <td>162.0</td>\n",
       "      <td>7.2</td>\n",
       "    </tr>\n",
       "  </tbody>\n",
       "</table>\n",
       "</div>"
      ],
      "text/plain": [
       "    title                                               cast  \\\n",
       "0  Avatar  [{\"cast_id\": 242, \"character\": \"Jake Sully\", \"...   \n",
       "\n",
       "                                                crew  \\\n",
       "0  [{\"credit_id\": \"52fe48009251416c750aca23\", \"de...   \n",
       "\n",
       "                                              genres  \\\n",
       "0  [{\"id\": 28, \"name\": \"Action\"}, {\"id\": 12, \"nam...   \n",
       "\n",
       "                                            keywords original_language  \\\n",
       "0  [{\"id\": 1463, \"name\": \"culture clash\"}, {\"id\":...                en   \n",
       "\n",
       "  original_title                                           overview  \\\n",
       "0         Avatar  In the 22nd century, a paraplegic Marine is di...   \n",
       "\n",
       "   popularity                               production_companies     revenue  \\\n",
       "0  150.437577  [{\"name\": \"Ingenious Film Partners\", \"id\": 289...  2787965087   \n",
       "\n",
       "   runtime  vote_average  \n",
       "0    162.0           7.2  "
      ]
     },
     "execution_count": 1989,
     "metadata": {},
     "output_type": "execute_result"
    }
   ],
   "source": [
    "df.head(1)"
   ]
  },
  {
   "cell_type": "code",
   "execution_count": 1990,
   "id": "9ca180d9-9c91-4a1c-9cc0-e1ca81e5b080",
   "metadata": {},
   "outputs": [
    {
     "data": {
      "text/plain": [
       "'[{\"id\": 28, \"name\": \"Action\"}, {\"id\": 12, \"name\": \"Adventure\"}, {\"id\": 14, \"name\": \"Fantasy\"}, {\"id\": 878, \"name\": \"Science Fiction\"}]'"
      ]
     },
     "execution_count": 1990,
     "metadata": {},
     "output_type": "execute_result"
    }
   ],
   "source": [
    "df.iloc[0].genres"
   ]
  },
  {
   "cell_type": "code",
   "execution_count": 1991,
   "id": "8131d277-c70a-45b5-aef4-f716d25a9ec6",
   "metadata": {},
   "outputs": [],
   "source": [
    "import ast\n",
    "\n",
    "def extract(text):\n",
    "    text = ast.literal_eval(text)\n",
    "    list=[]\n",
    "    for i in range(len(text)):\n",
    "        list.append(text[i][\"name\"])\n",
    "    return list   \n"
   ]
  },
  {
   "cell_type": "code",
   "execution_count": 1992,
   "id": "3ad643ab-a393-46fc-a77d-bf05cb27f752",
   "metadata": {},
   "outputs": [
    {
     "data": {
      "text/plain": [
       "[{'id': 28, 'name': 'Action'},\n",
       " {'id': 12, 'name': 'Adventure'},\n",
       " {'id': 14, 'name': 'Fantasy'},\n",
       " {'id': 878, 'name': 'Science Fiction'}]"
      ]
     },
     "execution_count": 1992,
     "metadata": {},
     "output_type": "execute_result"
    }
   ],
   "source": [
    "[{\"id\": 28, \"name\": \"Action\"}, {\"id\": 12, \"name\": \"Adventure\"}, {\"id\": 14, \"name\": \"Fantasy\"}, {\"id\": 878, \"name\": \"Science Fiction\"}]"
   ]
  },
  {
   "cell_type": "code",
   "execution_count": 1993,
   "id": "b48b0d1b-6513-459c-a64d-dff20f568c75",
   "metadata": {},
   "outputs": [
    {
     "data": {
      "text/plain": [
       "'[{\"id\": 1463, \"name\": \"culture clash\"}, {\"id\": 2964, \"name\": \"future\"}, {\"id\": 3386, \"name\": \"space war\"}, {\"id\": 3388, \"name\": \"space colony\"}, {\"id\": 3679, \"name\": \"society\"}, {\"id\": 3801, \"name\": \"space travel\"}, {\"id\": 9685, \"name\": \"futuristic\"}, {\"id\": 9840, \"name\": \"romance\"}, {\"id\": 9882, \"name\": \"space\"}, {\"id\": 9951, \"name\": \"alien\"}, {\"id\": 10148, \"name\": \"tribe\"}, {\"id\": 10158, \"name\": \"alien planet\"}, {\"id\": 10987, \"name\": \"cgi\"}, {\"id\": 11399, \"name\": \"marine\"}, {\"id\": 13065, \"name\": \"soldier\"}, {\"id\": 14643, \"name\": \"battle\"}, {\"id\": 14720, \"name\": \"love affair\"}, {\"id\": 165431, \"name\": \"anti war\"}, {\"id\": 193554, \"name\": \"power relations\"}, {\"id\": 206690, \"name\": \"mind and soul\"}, {\"id\": 209714, \"name\": \"3d\"}]'"
      ]
     },
     "execution_count": 1993,
     "metadata": {},
     "output_type": "execute_result"
    }
   ],
   "source": [
    "df.iloc[0].keywords"
   ]
  },
  {
   "cell_type": "code",
   "execution_count": 1994,
   "id": "e8cd4a79-42cd-429e-8d8d-0510d53bc943",
   "metadata": {},
   "outputs": [],
   "source": [
    "df['genres']=df['genres'].apply(extract)\n",
    "df['keywords']=df['keywords'].apply(extract)"
   ]
  },
  {
   "cell_type": "code",
   "execution_count": 1995,
   "id": "8fffe3a6-20e7-41a2-aec0-eca73b9f7396",
   "metadata": {},
   "outputs": [],
   "source": [
    "from sklearn.preprocessing import LabelEncoder\n",
    "\n",
    "label_encoder = LabelEncoder()\n",
    "df['original_language'] = label_encoder.fit_transform(df['original_language'])\n"
   ]
  },
  {
   "cell_type": "code",
   "execution_count": 1996,
   "id": "fe6c8eff-7b54-472e-aa85-49e29bb9d981",
   "metadata": {},
   "outputs": [
    {
     "data": {
      "text/plain": [
       "array([ 7, 17, 10, 36,  8, 18,  5, 12, 27, 31,  2, 16, 21, 30, 29, 32,  4,\n",
       "       35, 13,  3, 25, 15, 33, 20,  0, 23, 11,  1, 34, 19, 14, 26,  9, 22,\n",
       "       28, 24,  6])"
      ]
     },
     "execution_count": 1996,
     "metadata": {},
     "output_type": "execute_result"
    }
   ],
   "source": [
    "df['original_language'].unique()"
   ]
  },
  {
   "cell_type": "code",
   "execution_count": 1997,
   "id": "777654aa-bfbf-493a-93fd-e7848bebbc20",
   "metadata": {},
   "outputs": [
    {
     "name": "stdout",
     "output_type": "stream",
     "text": [
      "<class 'pandas.core.frame.DataFrame'>\n",
      "RangeIndex: 4809 entries, 0 to 4808\n",
      "Data columns (total 13 columns):\n",
      " #   Column                Non-Null Count  Dtype  \n",
      "---  ------                --------------  -----  \n",
      " 0   title                 4809 non-null   object \n",
      " 1   cast                  4809 non-null   object \n",
      " 2   crew                  4809 non-null   object \n",
      " 3   genres                4809 non-null   object \n",
      " 4   keywords              4809 non-null   object \n",
      " 5   original_language     4809 non-null   int64  \n",
      " 6   original_title        4809 non-null   object \n",
      " 7   overview              4806 non-null   object \n",
      " 8   popularity            4809 non-null   float64\n",
      " 9   production_companies  4809 non-null   object \n",
      " 10  revenue               4809 non-null   int64  \n",
      " 11  runtime               4807 non-null   float64\n",
      " 12  vote_average          4809 non-null   float64\n",
      "dtypes: float64(3), int64(2), object(8)\n",
      "memory usage: 488.5+ KB\n"
     ]
    }
   ],
   "source": [
    "df.info()"
   ]
  },
  {
   "cell_type": "code",
   "execution_count": 1998,
   "id": "ab93a302-493e-48b2-b096-1338e666f032",
   "metadata": {},
   "outputs": [
    {
     "data": {
      "text/html": [
       "<div>\n",
       "<style scoped>\n",
       "    .dataframe tbody tr th:only-of-type {\n",
       "        vertical-align: middle;\n",
       "    }\n",
       "\n",
       "    .dataframe tbody tr th {\n",
       "        vertical-align: top;\n",
       "    }\n",
       "\n",
       "    .dataframe thead th {\n",
       "        text-align: right;\n",
       "    }\n",
       "</style>\n",
       "<table border=\"1\" class=\"dataframe\">\n",
       "  <thead>\n",
       "    <tr style=\"text-align: right;\">\n",
       "      <th></th>\n",
       "      <th>title</th>\n",
       "      <th>cast</th>\n",
       "      <th>crew</th>\n",
       "      <th>genres</th>\n",
       "      <th>keywords</th>\n",
       "      <th>original_language</th>\n",
       "      <th>original_title</th>\n",
       "      <th>overview</th>\n",
       "      <th>popularity</th>\n",
       "      <th>production_companies</th>\n",
       "      <th>revenue</th>\n",
       "      <th>runtime</th>\n",
       "      <th>vote_average</th>\n",
       "    </tr>\n",
       "  </thead>\n",
       "  <tbody>\n",
       "    <tr>\n",
       "      <th>0</th>\n",
       "      <td>Avatar</td>\n",
       "      <td>[{\"cast_id\": 242, \"character\": \"Jake Sully\", \"...</td>\n",
       "      <td>[{\"credit_id\": \"52fe48009251416c750aca23\", \"de...</td>\n",
       "      <td>[Action, Adventure, Fantasy, Science Fiction]</td>\n",
       "      <td>[culture clash, future, space war, space colon...</td>\n",
       "      <td>7</td>\n",
       "      <td>Avatar</td>\n",
       "      <td>In the 22nd century, a paraplegic Marine is di...</td>\n",
       "      <td>150.437577</td>\n",
       "      <td>[{\"name\": \"Ingenious Film Partners\", \"id\": 289...</td>\n",
       "      <td>2787965087</td>\n",
       "      <td>162.0</td>\n",
       "      <td>7.2</td>\n",
       "    </tr>\n",
       "  </tbody>\n",
       "</table>\n",
       "</div>"
      ],
      "text/plain": [
       "    title                                               cast  \\\n",
       "0  Avatar  [{\"cast_id\": 242, \"character\": \"Jake Sully\", \"...   \n",
       "\n",
       "                                                crew  \\\n",
       "0  [{\"credit_id\": \"52fe48009251416c750aca23\", \"de...   \n",
       "\n",
       "                                          genres  \\\n",
       "0  [Action, Adventure, Fantasy, Science Fiction]   \n",
       "\n",
       "                                            keywords  original_language  \\\n",
       "0  [culture clash, future, space war, space colon...                  7   \n",
       "\n",
       "  original_title                                           overview  \\\n",
       "0         Avatar  In the 22nd century, a paraplegic Marine is di...   \n",
       "\n",
       "   popularity                               production_companies     revenue  \\\n",
       "0  150.437577  [{\"name\": \"Ingenious Film Partners\", \"id\": 289...  2787965087   \n",
       "\n",
       "   runtime  vote_average  \n",
       "0    162.0           7.2  "
      ]
     },
     "execution_count": 1998,
     "metadata": {},
     "output_type": "execute_result"
    }
   ],
   "source": [
    "df.head(1)"
   ]
  },
  {
   "cell_type": "code",
   "execution_count": 1999,
   "id": "9d59425f-1426-4280-80aa-c4849ca85052",
   "metadata": {},
   "outputs": [
    {
     "data": {
      "text/plain": [
       "474    [nurse, sea, beach, boy, pregnant, blood, woma...\n",
       "Name: keywords, dtype: object"
      ]
     },
     "execution_count": 1999,
     "metadata": {},
     "output_type": "execute_result"
    }
   ],
   "source": [
    "df.sample().keywords"
   ]
  },
  {
   "cell_type": "code",
   "execution_count": 2000,
   "id": "fbdae91b-639a-471f-9c21-858787fdb179",
   "metadata": {},
   "outputs": [],
   "source": [
    "df.drop(columns=['original_title'],inplace=True)"
   ]
  },
  {
   "cell_type": "code",
   "execution_count": 2001,
   "id": "bf23cc3b-f336-4d28-8915-e09d0540253a",
   "metadata": {},
   "outputs": [
    {
     "data": {
      "text/html": [
       "<div>\n",
       "<style scoped>\n",
       "    .dataframe tbody tr th:only-of-type {\n",
       "        vertical-align: middle;\n",
       "    }\n",
       "\n",
       "    .dataframe tbody tr th {\n",
       "        vertical-align: top;\n",
       "    }\n",
       "\n",
       "    .dataframe thead th {\n",
       "        text-align: right;\n",
       "    }\n",
       "</style>\n",
       "<table border=\"1\" class=\"dataframe\">\n",
       "  <thead>\n",
       "    <tr style=\"text-align: right;\">\n",
       "      <th></th>\n",
       "      <th>title</th>\n",
       "      <th>cast</th>\n",
       "      <th>crew</th>\n",
       "      <th>genres</th>\n",
       "      <th>keywords</th>\n",
       "      <th>original_language</th>\n",
       "      <th>overview</th>\n",
       "      <th>popularity</th>\n",
       "      <th>production_companies</th>\n",
       "      <th>revenue</th>\n",
       "      <th>runtime</th>\n",
       "      <th>vote_average</th>\n",
       "    </tr>\n",
       "  </thead>\n",
       "  <tbody>\n",
       "    <tr>\n",
       "      <th>2405</th>\n",
       "      <td>Aliens</td>\n",
       "      <td>[{\"cast_id\": 21, \"character\": \"Lieutenant Elle...</td>\n",
       "      <td>[{\"credit_id\": \"52fe4269c3a36847f801c985\", \"de...</td>\n",
       "      <td>[Horror, Action, Thriller, Science Fiction]</td>\n",
       "      <td>[android, extraterrestrial technology, space m...</td>\n",
       "      <td>7</td>\n",
       "      <td>When Ripley's lifepod is found by a salvage cr...</td>\n",
       "      <td>67.66094</td>\n",
       "      <td>[{\"name\": \"Twentieth Century Fox Film Corporat...</td>\n",
       "      <td>183316455</td>\n",
       "      <td>137.0</td>\n",
       "      <td>7.7</td>\n",
       "    </tr>\n",
       "  </tbody>\n",
       "</table>\n",
       "</div>"
      ],
      "text/plain": [
       "       title                                               cast  \\\n",
       "2405  Aliens  [{\"cast_id\": 21, \"character\": \"Lieutenant Elle...   \n",
       "\n",
       "                                                   crew  \\\n",
       "2405  [{\"credit_id\": \"52fe4269c3a36847f801c985\", \"de...   \n",
       "\n",
       "                                           genres  \\\n",
       "2405  [Horror, Action, Thriller, Science Fiction]   \n",
       "\n",
       "                                               keywords  original_language  \\\n",
       "2405  [android, extraterrestrial technology, space m...                  7   \n",
       "\n",
       "                                               overview  popularity  \\\n",
       "2405  When Ripley's lifepod is found by a salvage cr...    67.66094   \n",
       "\n",
       "                                   production_companies    revenue  runtime  \\\n",
       "2405  [{\"name\": \"Twentieth Century Fox Film Corporat...  183316455    137.0   \n",
       "\n",
       "      vote_average  \n",
       "2405           7.7  "
      ]
     },
     "execution_count": 2001,
     "metadata": {},
     "output_type": "execute_result"
    }
   ],
   "source": [
    "df.sample()"
   ]
  },
  {
   "cell_type": "code",
   "execution_count": 2002,
   "id": "b6d3f364-d640-4010-b5d7-6b8d65961c67",
   "metadata": {},
   "outputs": [
    {
     "data": {
      "text/plain": [
       "array(['[{\"name\": \"Paramount Pictures\", \"id\": 4}]'], dtype=object)"
      ]
     },
     "execution_count": 2002,
     "metadata": {},
     "output_type": "execute_result"
    }
   ],
   "source": [
    "df.sample().production_companies.values"
   ]
  },
  {
   "cell_type": "code",
   "execution_count": 2003,
   "id": "b796f21b-ea1d-459f-a212-fb88d0297593",
   "metadata": {},
   "outputs": [],
   "source": [
    "df['production_companies']=df['production_companies'].apply(extract)"
   ]
  },
  {
   "cell_type": "code",
   "execution_count": 2004,
   "id": "b5b2f4d6-5c7d-4145-8ee8-2dbd53eb3249",
   "metadata": {},
   "outputs": [
    {
     "data": {
      "text/html": [
       "<div>\n",
       "<style scoped>\n",
       "    .dataframe tbody tr th:only-of-type {\n",
       "        vertical-align: middle;\n",
       "    }\n",
       "\n",
       "    .dataframe tbody tr th {\n",
       "        vertical-align: top;\n",
       "    }\n",
       "\n",
       "    .dataframe thead th {\n",
       "        text-align: right;\n",
       "    }\n",
       "</style>\n",
       "<table border=\"1\" class=\"dataframe\">\n",
       "  <thead>\n",
       "    <tr style=\"text-align: right;\">\n",
       "      <th></th>\n",
       "      <th>title</th>\n",
       "      <th>cast</th>\n",
       "      <th>crew</th>\n",
       "      <th>genres</th>\n",
       "      <th>keywords</th>\n",
       "      <th>original_language</th>\n",
       "      <th>overview</th>\n",
       "      <th>popularity</th>\n",
       "      <th>production_companies</th>\n",
       "      <th>revenue</th>\n",
       "      <th>runtime</th>\n",
       "      <th>vote_average</th>\n",
       "    </tr>\n",
       "  </thead>\n",
       "  <tbody>\n",
       "    <tr>\n",
       "      <th>4460</th>\n",
       "      <td>Welcome to the Dollhouse</td>\n",
       "      <td>[{\"cast_id\": 1, \"character\": \"Dawn Wiener\", \"c...</td>\n",
       "      <td>[{\"credit_id\": \"52fe44419251416c7502e401\", \"de...</td>\n",
       "      <td>[Comedy, Drama]</td>\n",
       "      <td>[parents kids relationship, sister sister rela...</td>\n",
       "      <td>7</td>\n",
       "      <td>An unattractive 7th grader struggles to cope w...</td>\n",
       "      <td>5.870319</td>\n",
       "      <td>[]</td>\n",
       "      <td>0</td>\n",
       "      <td>88.0</td>\n",
       "      <td>6.9</td>\n",
       "    </tr>\n",
       "  </tbody>\n",
       "</table>\n",
       "</div>"
      ],
      "text/plain": [
       "                         title  \\\n",
       "4460  Welcome to the Dollhouse   \n",
       "\n",
       "                                                   cast  \\\n",
       "4460  [{\"cast_id\": 1, \"character\": \"Dawn Wiener\", \"c...   \n",
       "\n",
       "                                                   crew           genres  \\\n",
       "4460  [{\"credit_id\": \"52fe44419251416c7502e401\", \"de...  [Comedy, Drama]   \n",
       "\n",
       "                                               keywords  original_language  \\\n",
       "4460  [parents kids relationship, sister sister rela...                  7   \n",
       "\n",
       "                                               overview  popularity  \\\n",
       "4460  An unattractive 7th grader struggles to cope w...    5.870319   \n",
       "\n",
       "     production_companies  revenue  runtime  vote_average  \n",
       "4460                   []        0     88.0           6.9  "
      ]
     },
     "execution_count": 2004,
     "metadata": {},
     "output_type": "execute_result"
    }
   ],
   "source": [
    "df.sample()"
   ]
  },
  {
   "cell_type": "code",
   "execution_count": 2005,
   "id": "09cb3b3c-3036-454b-bf89-d87c24790392",
   "metadata": {},
   "outputs": [],
   "source": [
    "new_order = ['title','genres', 'keywords', 'overview', 'cast','crew','production_companies','popularity','revenue','runtime','vote_average','original_language']\n",
    "df=df[new_order]"
   ]
  },
  {
   "cell_type": "code",
   "execution_count": 2006,
   "id": "e671e12a-63e8-46e0-bd07-d007ac59df3c",
   "metadata": {},
   "outputs": [
    {
     "data": {
      "text/plain": [
       "(4809, 12)"
      ]
     },
     "execution_count": 2006,
     "metadata": {},
     "output_type": "execute_result"
    }
   ],
   "source": [
    "df.shape"
   ]
  },
  {
   "cell_type": "code",
   "execution_count": 2007,
   "id": "59948134-658e-42ca-9cf5-0cf3eec77a94",
   "metadata": {},
   "outputs": [
    {
     "data": {
      "text/plain": [
       "array(['[{\"cast_id\": 3, \"character\": \"Emma\", \"credit_id\": \"52fe4caf9251416c7512245f\", \"gender\": 0, \"id\": 6979, \"name\": \"Romola Garai\", \"order\": 0}, {\"cast_id\": 4, \"character\": \"Mr. Woodhouse\", \"credit_id\": \"52fe4caf9251416c75122463\", \"gender\": 2, \"id\": 5658, \"name\": \"Michael Gambon\", \"order\": 1}, {\"cast_id\": 5, \"character\": \"Mr. Knightley\", \"credit_id\": \"52fe4caf9251416c75122467\", \"gender\": 2, \"id\": 9012, \"name\": \"Jonny Lee Miller\", \"order\": 2}, {\"cast_id\": 6, \"character\": \"Harriet Smith\", \"credit_id\": \"52fe4caf9251416c7512246b\", \"gender\": 1, \"id\": 141534, \"name\": \"Louise Dylan\", \"order\": 3}, {\"cast_id\": 7, \"character\": \"Mr. Elton\", \"credit_id\": \"52fe4caf9251416c7512246f\", \"gender\": 2, \"id\": 80154, \"name\": \"Blake Ritson\", \"order\": 4}, {\"cast_id\": 8, \"character\": \"Isabella Knightley\", \"credit_id\": \"52fe4caf9251416c75122473\", \"gender\": 1, \"id\": 221090, \"name\": \"Poppy Miller\", \"order\": 5}, {\"cast_id\": 9, \"character\": \"Henry Knightley\", \"credit_id\": \"52fe4caf9251416c75122477\", \"gender\": 2, \"id\": 24613, \"name\": \"Jamie Glover\", \"order\": 6}, {\"cast_id\": 10, \"character\": \"Anne Weston\", \"credit_id\": \"52fe4caf9251416c7512247b\", \"gender\": 1, \"id\": 57449, \"name\": \"Jodhi May\", \"order\": 7}, {\"cast_id\": 11, \"character\": \"Mr. Weston\", \"credit_id\": \"52fe4caf9251416c7512247f\", \"gender\": 2, \"id\": 42663, \"name\": \"Robert Bathurst\", \"order\": 8}, {\"cast_id\": 12, \"character\": \"Miss Bates\", \"credit_id\": \"52fe4caf9251416c75122483\", \"gender\": 1, \"id\": 120931, \"name\": \"Tamsin Greig\", \"order\": 9}, {\"cast_id\": 13, \"character\": \"Frank Churchill\", \"credit_id\": \"570c72af9251414492000126\", \"gender\": 2, \"id\": 17283, \"name\": \"Rupert Evans\", \"order\": 10}, {\"cast_id\": 14, \"character\": \"Mrs. Woodhouse (1 episode, 2009)\", \"credit_id\": \"570c72c3c3a3684bfe001118\", \"gender\": 0, \"id\": 1220107, \"name\": \"Annabel Mullion\", \"order\": 11}, {\"cast_id\": 15, \"character\": \"Jane Fairfax\", \"credit_id\": \"570c72d4c3a3684c060012b9\", \"gender\": 1, \"id\": 557395, \"name\": \"Laura Pyper\", \"order\": 12}, {\"cast_id\": 16, \"character\": \"Augusta Elton\", \"credit_id\": \"570c72eac3a3684c15001220\", \"gender\": 0, \"id\": 47625, \"name\": \"Christina Cole\", \"order\": 13}, {\"cast_id\": 17, \"character\": \"Miss Campbell\", \"credit_id\": \"570c72fdc3a3684c0a001183\", \"gender\": 0, \"id\": 1495446, \"name\": \"Amy Loughton\", \"order\": 14}, {\"cast_id\": 18, \"character\": \"Gypsy Boy\", \"credit_id\": \"570c730ac3a3684c1500122a\", \"gender\": 0, \"id\": 1416326, \"name\": \"Nathaniel Gleed\", \"order\": 15}, {\"cast_id\": 19, \"character\": \"Mrs. Bates\", \"credit_id\": \"571c0fdbc3a3686524002445\", \"gender\": 0, \"id\": 1222342, \"name\": \"Valerie Lilley\", \"order\": 16}, {\"cast_id\": 20, \"character\": \"John Knightley\", \"credit_id\": \"571c0fdc925141115f006846\", \"gender\": 0, \"id\": 175400, \"name\": \"Dan Fredenburgh\", \"order\": 17}, {\"cast_id\": 21, \"character\": \"James Knightley\", \"credit_id\": \"571c0fdc92514135ff002733\", \"gender\": 0, \"id\": 1494840, \"name\": \"Joshua Jones\", \"order\": 18}, {\"cast_id\": 22, \"character\": \"Robert Martin\", \"credit_id\": \"571c0fdcc3a36864e00038c7\", \"gender\": 0, \"id\": 109322, \"name\": \"Jefferson Hall\", \"order\": 19}, {\"cast_id\": 23, \"character\": \"Mrs. Cole\", \"credit_id\": \"571c0fdd92514121a00044d2\", \"gender\": 0, \"id\": 1320744, \"name\": \"Liza Sadovy\", \"order\": 20}, {\"cast_id\": 24, \"character\": \"Miss Martin 1\", \"credit_id\": \"571c0fddc3a36824a3002802\", \"gender\": 1, \"id\": 1504465, \"name\": \"Eileen O\\'Higgins\", \"order\": 21}, {\"cast_id\": 25, \"character\": \"Miss Martin 2\", \"credit_id\": \"571c0fdd9251414e9700605c\", \"gender\": 0, \"id\": 1609919, \"name\": \"Sarah Ovens\", \"order\": 22}, {\"cast_id\": 26, \"character\": \"Young Emma (aged 3)\", \"credit_id\": \"571c0fddc3a36824a3002805\", \"gender\": 0, \"id\": 1609920, \"name\": \"Lyla Barrett-Rye\", \"order\": 23}, {\"cast_id\": 27, \"character\": \"Young Frank Churchill\", \"credit_id\": \"571c0fdec3a36864e00038ca\", \"gender\": 0, \"id\": 1609921, \"name\": \"Teddy Bunn\", \"order\": 24}, {\"cast_id\": 28, \"character\": \"Mrs. Churchill\", \"credit_id\": \"571c0fdec3a368525f006f5b\", \"gender\": 0, \"id\": 1417041, \"name\": \"Susie Trayling\", \"order\": 25}, {\"cast_id\": 29, \"character\": \"Young Jane Fairfax\", \"credit_id\": \"571c0fde925141115f00684a\", \"gender\": 0, \"id\": 1609922, \"name\": \"Sarah Gower\", \"order\": 26}, {\"cast_id\": 30, \"character\": \"Young Jane Fairfax\", \"credit_id\": \"571c0fdfc3a368441e000fa4\", \"gender\": 0, \"id\": 1609923, \"name\": \"Claire Gower\", \"order\": 27}]'],\n",
       "      dtype=object)"
      ]
     },
     "execution_count": 2007,
     "metadata": {},
     "output_type": "execute_result"
    }
   ],
   "source": [
    "df.sample().cast.values"
   ]
  },
  {
   "cell_type": "code",
   "execution_count": 2008,
   "id": "56d4258e-fc52-4e11-8422-a53a9a3594d7",
   "metadata": {},
   "outputs": [],
   "source": [
    "def extract_cast(text):\n",
    "    text = ast.literal_eval(text)\n",
    "    list=[]\n",
    "    for i in range(min(len(text),3)):\n",
    "        list.append(text[i][\"name\"])\n",
    "    return list   \n"
   ]
  },
  {
   "cell_type": "code",
   "execution_count": 2009,
   "id": "0de03ee0-2a0d-489a-a338-4abd0c6df111",
   "metadata": {},
   "outputs": [],
   "source": [
    "df['cast']=df['cast'].apply(extract_cast)"
   ]
  },
  {
   "cell_type": "code",
   "execution_count": 2010,
   "id": "d3cfa645-d6ed-4a00-ace3-867784731f3a",
   "metadata": {},
   "outputs": [
    {
     "data": {
      "text/plain": [
       "array(['[{\"credit_id\": \"52fe45309251416c9102a535\", \"department\": \"Directing\", \"gender\": 0, \"id\": 40864, \"job\": \"Director\", \"name\": \"Andrew Bujalski\"}, {\"credit_id\": \"52fe45309251416c9102a53b\", \"department\": \"Writing\", \"gender\": 0, \"id\": 40864, \"job\": \"Writer\", \"name\": \"Andrew Bujalski\"}, {\"credit_id\": \"591d8fc1925141499001f439\", \"department\": \"Production\", \"gender\": 0, \"id\": 1819087, \"job\": \"Producer\", \"name\": \"Ethan Vogt\"}]'],\n",
       "      dtype=object)"
      ]
     },
     "execution_count": 2010,
     "metadata": {},
     "output_type": "execute_result"
    }
   ],
   "source": [
    "df.sample().crew.values"
   ]
  },
  {
   "cell_type": "code",
   "execution_count": 2011,
   "id": "a1061b15-56e4-4a74-bd0b-c7f39e033f82",
   "metadata": {},
   "outputs": [],
   "source": [
    "def extract_director(text):\n",
    "    text = ast.literal_eval(text)\n",
    "    for i in range(len(text)):\n",
    "        if(text[i][\"job\"]==\"Director\"):\n",
    "            return text[i][\"name\"]"
   ]
  },
  {
   "cell_type": "code",
   "execution_count": 2012,
   "id": "4366dfaa-385b-46d8-8aff-c77175760a5a",
   "metadata": {},
   "outputs": [],
   "source": [
    "df['crew']=df['crew'].apply(extract_director)"
   ]
  },
  {
   "cell_type": "code",
   "execution_count": 2013,
   "id": "e900b8fa-f7c4-4327-85db-44432694b174",
   "metadata": {},
   "outputs": [
    {
     "data": {
      "text/html": [
       "<div>\n",
       "<style scoped>\n",
       "    .dataframe tbody tr th:only-of-type {\n",
       "        vertical-align: middle;\n",
       "    }\n",
       "\n",
       "    .dataframe tbody tr th {\n",
       "        vertical-align: top;\n",
       "    }\n",
       "\n",
       "    .dataframe thead th {\n",
       "        text-align: right;\n",
       "    }\n",
       "</style>\n",
       "<table border=\"1\" class=\"dataframe\">\n",
       "  <thead>\n",
       "    <tr style=\"text-align: right;\">\n",
       "      <th></th>\n",
       "      <th>title</th>\n",
       "      <th>genres</th>\n",
       "      <th>keywords</th>\n",
       "      <th>overview</th>\n",
       "      <th>cast</th>\n",
       "      <th>crew</th>\n",
       "      <th>production_companies</th>\n",
       "      <th>popularity</th>\n",
       "      <th>revenue</th>\n",
       "      <th>runtime</th>\n",
       "      <th>vote_average</th>\n",
       "      <th>original_language</th>\n",
       "    </tr>\n",
       "  </thead>\n",
       "  <tbody>\n",
       "    <tr>\n",
       "      <th>143</th>\n",
       "      <td>Pan</td>\n",
       "      <td>[Adventure, Family, Fantasy]</td>\n",
       "      <td>[flying, magic, fairy tale, peter pan, mermaid...</td>\n",
       "      <td>Living a bleak existence at a London orphanage...</td>\n",
       "      <td>[Levi Miller, Garrett Hedlund, Hugh Jackman]</td>\n",
       "      <td>Joe Wright</td>\n",
       "      <td>[Warner Bros., Moving Picture Company (MPC), B...</td>\n",
       "      <td>48.03528</td>\n",
       "      <td>128388320</td>\n",
       "      <td>111.0</td>\n",
       "      <td>5.9</td>\n",
       "      <td>7</td>\n",
       "    </tr>\n",
       "  </tbody>\n",
       "</table>\n",
       "</div>"
      ],
      "text/plain": [
       "    title                        genres  \\\n",
       "143   Pan  [Adventure, Family, Fantasy]   \n",
       "\n",
       "                                              keywords  \\\n",
       "143  [flying, magic, fairy tale, peter pan, mermaid...   \n",
       "\n",
       "                                              overview  \\\n",
       "143  Living a bleak existence at a London orphanage...   \n",
       "\n",
       "                                             cast        crew  \\\n",
       "143  [Levi Miller, Garrett Hedlund, Hugh Jackman]  Joe Wright   \n",
       "\n",
       "                                  production_companies  popularity    revenue  \\\n",
       "143  [Warner Bros., Moving Picture Company (MPC), B...    48.03528  128388320   \n",
       "\n",
       "     runtime  vote_average  original_language  \n",
       "143    111.0           5.9                  7  "
      ]
     },
     "execution_count": 2013,
     "metadata": {},
     "output_type": "execute_result"
    }
   ],
   "source": [
    "df.sample()"
   ]
  },
  {
   "cell_type": "code",
   "execution_count": 2014,
   "id": "87db6dd6-844a-40d5-a8fb-e36a6b838b82",
   "metadata": {},
   "outputs": [],
   "source": [
    "def combine_words(string_list):\n",
    "    return [s.replace(\" \", \"\") for s in string_list]\n"
   ]
  },
  {
   "cell_type": "code",
   "execution_count": 2015,
   "id": "92eb5bfb-bab8-4a2a-bc83-4a535de689b9",
   "metadata": {},
   "outputs": [],
   "source": [
    "df['genres']=df['genres'].apply(combine_words)\n",
    "df['cast']=df['cast'].apply(combine_words)\n",
    "df['production_companies']=df['production_companies'].apply(combine_words)\n",
    "df['crew']=df['crew'].str.replace(\" \",\"\")\n",
    "\n"
   ]
  },
  {
   "cell_type": "code",
   "execution_count": 2016,
   "id": "bf16d01c-494c-4a35-bfb9-052b3159b740",
   "metadata": {},
   "outputs": [
    {
     "data": {
      "text/html": [
       "<div>\n",
       "<style scoped>\n",
       "    .dataframe tbody tr th:only-of-type {\n",
       "        vertical-align: middle;\n",
       "    }\n",
       "\n",
       "    .dataframe tbody tr th {\n",
       "        vertical-align: top;\n",
       "    }\n",
       "\n",
       "    .dataframe thead th {\n",
       "        text-align: right;\n",
       "    }\n",
       "</style>\n",
       "<table border=\"1\" class=\"dataframe\">\n",
       "  <thead>\n",
       "    <tr style=\"text-align: right;\">\n",
       "      <th></th>\n",
       "      <th>title</th>\n",
       "      <th>genres</th>\n",
       "      <th>keywords</th>\n",
       "      <th>overview</th>\n",
       "      <th>cast</th>\n",
       "      <th>crew</th>\n",
       "      <th>production_companies</th>\n",
       "      <th>popularity</th>\n",
       "      <th>revenue</th>\n",
       "      <th>runtime</th>\n",
       "      <th>vote_average</th>\n",
       "      <th>original_language</th>\n",
       "    </tr>\n",
       "  </thead>\n",
       "  <tbody>\n",
       "    <tr>\n",
       "      <th>722</th>\n",
       "      <td>Coraline</td>\n",
       "      <td>[Animation, Family]</td>\n",
       "      <td>[dream, eye, stuffed animal, parallel world, b...</td>\n",
       "      <td>When Coraline moves to an old house, she feels...</td>\n",
       "      <td>[DakotaFanning, TeriHatcher, JenniferSaunders]</td>\n",
       "      <td>HenrySelick</td>\n",
       "      <td>[FocusFeatures, LaikaEntertainment]</td>\n",
       "      <td>51.146047</td>\n",
       "      <td>124596398</td>\n",
       "      <td>100.0</td>\n",
       "      <td>7.3</td>\n",
       "      <td>7</td>\n",
       "    </tr>\n",
       "  </tbody>\n",
       "</table>\n",
       "</div>"
      ],
      "text/plain": [
       "        title               genres  \\\n",
       "722  Coraline  [Animation, Family]   \n",
       "\n",
       "                                              keywords  \\\n",
       "722  [dream, eye, stuffed animal, parallel world, b...   \n",
       "\n",
       "                                              overview  \\\n",
       "722  When Coraline moves to an old house, she feels...   \n",
       "\n",
       "                                               cast         crew  \\\n",
       "722  [DakotaFanning, TeriHatcher, JenniferSaunders]  HenrySelick   \n",
       "\n",
       "                    production_companies  popularity    revenue  runtime  \\\n",
       "722  [FocusFeatures, LaikaEntertainment]   51.146047  124596398    100.0   \n",
       "\n",
       "     vote_average  original_language  \n",
       "722           7.3                  7  "
      ]
     },
     "execution_count": 2016,
     "metadata": {},
     "output_type": "execute_result"
    }
   ],
   "source": [
    "df.sample()"
   ]
  },
  {
   "cell_type": "code",
   "execution_count": 2017,
   "id": "28889301-e758-4763-b8bb-eeb5eb8f5943",
   "metadata": {},
   "outputs": [],
   "source": [
    "def string_converter(list):\n",
    "    return \" \".join(list)"
   ]
  },
  {
   "cell_type": "code",
   "execution_count": 2018,
   "id": "35194e53-82b8-4697-ab08-bd5943d975f8",
   "metadata": {},
   "outputs": [],
   "source": [
    "df['genres']=df['genres'].apply(string_converter)\n",
    "df['keywords']=df['keywords'].apply(string_converter)\n",
    "df['cast']=df['cast'].apply(string_converter)\n",
    "df['production_companies']=df['production_companies'].apply(string_converter)"
   ]
  },
  {
   "cell_type": "code",
   "execution_count": 2019,
   "id": "35b63646-77c4-4ad4-8eb2-df6466c31c53",
   "metadata": {},
   "outputs": [
    {
     "data": {
      "text/html": [
       "<div>\n",
       "<style scoped>\n",
       "    .dataframe tbody tr th:only-of-type {\n",
       "        vertical-align: middle;\n",
       "    }\n",
       "\n",
       "    .dataframe tbody tr th {\n",
       "        vertical-align: top;\n",
       "    }\n",
       "\n",
       "    .dataframe thead th {\n",
       "        text-align: right;\n",
       "    }\n",
       "</style>\n",
       "<table border=\"1\" class=\"dataframe\">\n",
       "  <thead>\n",
       "    <tr style=\"text-align: right;\">\n",
       "      <th></th>\n",
       "      <th>title</th>\n",
       "      <th>genres</th>\n",
       "      <th>keywords</th>\n",
       "      <th>overview</th>\n",
       "      <th>cast</th>\n",
       "      <th>crew</th>\n",
       "      <th>production_companies</th>\n",
       "      <th>popularity</th>\n",
       "      <th>revenue</th>\n",
       "      <th>runtime</th>\n",
       "      <th>vote_average</th>\n",
       "      <th>original_language</th>\n",
       "    </tr>\n",
       "  </thead>\n",
       "  <tbody>\n",
       "    <tr>\n",
       "      <th>238</th>\n",
       "      <td>Teenage Mutant Ninja Turtles</td>\n",
       "      <td>ScienceFiction Action Adventure Fantasy Comedy</td>\n",
       "      <td>martial arts terrorist hero mutation van turtl...</td>\n",
       "      <td>The city needs heroes. Darkness has settled ov...</td>\n",
       "      <td>MeganFox WillArnett WilliamFichtner</td>\n",
       "      <td>JonathanLiebesman</td>\n",
       "      <td>ParamountPictures NickelodeonMovies PlatinumDunes</td>\n",
       "      <td>143.350376</td>\n",
       "      <td>477200000</td>\n",
       "      <td>101.0</td>\n",
       "      <td>5.8</td>\n",
       "      <td>7</td>\n",
       "    </tr>\n",
       "  </tbody>\n",
       "</table>\n",
       "</div>"
      ],
      "text/plain": [
       "                            title  \\\n",
       "238  Teenage Mutant Ninja Turtles   \n",
       "\n",
       "                                             genres  \\\n",
       "238  ScienceFiction Action Adventure Fantasy Comedy   \n",
       "\n",
       "                                              keywords  \\\n",
       "238  martial arts terrorist hero mutation van turtl...   \n",
       "\n",
       "                                              overview  \\\n",
       "238  The city needs heroes. Darkness has settled ov...   \n",
       "\n",
       "                                    cast               crew  \\\n",
       "238  MeganFox WillArnett WilliamFichtner  JonathanLiebesman   \n",
       "\n",
       "                                  production_companies  popularity    revenue  \\\n",
       "238  ParamountPictures NickelodeonMovies PlatinumDunes  143.350376  477200000   \n",
       "\n",
       "     runtime  vote_average  original_language  \n",
       "238    101.0           5.8                  7  "
      ]
     },
     "execution_count": 2019,
     "metadata": {},
     "output_type": "execute_result"
    }
   ],
   "source": [
    "df.sample()"
   ]
  },
  {
   "cell_type": "code",
   "execution_count": 2020,
   "id": "5a19d28a-c98e-4bff-a897-97d62173be9d",
   "metadata": {},
   "outputs": [],
   "source": [
    "def combine_string_features(row):\n",
    "    return ' '.join(str(value) if value is not None else '' for value in row)\n",
    "\n",
    "df_new=df[['genres','keywords','overview','cast','crew','production_companies']]\n"
   ]
  },
  {
   "cell_type": "code",
   "execution_count": 2021,
   "id": "7608a877-0b9f-435b-aa9f-94e720517df3",
   "metadata": {},
   "outputs": [
    {
     "name": "stderr",
     "output_type": "stream",
     "text": [
      "/var/folders/26/7g66jx1x4mg99_zs0y69gr6h0000gn/T/ipykernel_24136/1231262677.py:1: SettingWithCopyWarning: \n",
      "A value is trying to be set on a copy of a slice from a DataFrame.\n",
      "Try using .loc[row_indexer,col_indexer] = value instead\n",
      "\n",
      "See the caveats in the documentation: https://pandas.pydata.org/pandas-docs/stable/user_guide/indexing.html#returning-a-view-versus-a-copy\n",
      "  df_new['combine']=df_new.apply(combine_string_features,axis=1)\n"
     ]
    }
   ],
   "source": [
    "df_new['combine']=df_new.apply(combine_string_features,axis=1)"
   ]
  },
  {
   "cell_type": "code",
   "execution_count": 2022,
   "id": "7ffe7799-9a31-4e3a-b074-c7ae89699dc6",
   "metadata": {},
   "outputs": [
    {
     "data": {
      "text/plain": [
       "2349"
      ]
     },
     "execution_count": 2022,
     "metadata": {},
     "output_type": "execute_result"
    }
   ],
   "source": [
    "df_new.crew.nunique()"
   ]
  },
  {
   "cell_type": "code",
   "execution_count": 2023,
   "id": "42ab9853-2173-4418-aca5-6f3c62b05a68",
   "metadata": {},
   "outputs": [],
   "source": [
    "df[\"combined_text\"]=df_new[\"combine\"]"
   ]
  },
  {
   "cell_type": "code",
   "execution_count": 2024,
   "id": "280b12a4-bafd-46bf-937d-8a1b39d6928c",
   "metadata": {},
   "outputs": [
    {
     "data": {
      "text/plain": [
       "array(['Action Adventure Fantasy ScienceFiction culture clash future space war space colony society space travel futuristic romance space alien tribe alien planet cgi marine soldier battle love affair anti war power relations mind and soul 3d In the 22nd century, a paraplegic Marine is dispatched to the moon Pandora on a unique mission, but becomes torn between following orders and protecting an alien civilization. SamWorthington ZoeSaldana SigourneyWeaver JamesCameron IngeniousFilmPartners TwentiethCenturyFoxFilmCorporation DuneEntertainment LightstormEntertainment',\n",
       "       \"Adventure Fantasy Action ocean drug abuse exotic island east india trading company love of one's life traitor shipwreck strong woman ship alliance calypso afterlife fighter pirate swashbuckler aftercreditsstinger Captain Barbossa, long believed to be dead, has come back to life and is headed to the edge of the Earth with Will Turner and Elizabeth Swann. But nothing is quite as it seems. JohnnyDepp OrlandoBloom KeiraKnightley GoreVerbinski WaltDisneyPictures JerryBruckheimerFilms SecondMateProductions\"],\n",
       "      dtype=object)"
      ]
     },
     "execution_count": 2024,
     "metadata": {},
     "output_type": "execute_result"
    }
   ],
   "source": [
    "df.head(2).combined_text.values"
   ]
  },
  {
   "cell_type": "code",
   "execution_count": 2025,
   "id": "942588e5-c0fb-4449-ad37-6ee82959cbd5",
   "metadata": {},
   "outputs": [
    {
     "data": {
      "text/html": [
       "<div>\n",
       "<style scoped>\n",
       "    .dataframe tbody tr th:only-of-type {\n",
       "        vertical-align: middle;\n",
       "    }\n",
       "\n",
       "    .dataframe tbody tr th {\n",
       "        vertical-align: top;\n",
       "    }\n",
       "\n",
       "    .dataframe thead th {\n",
       "        text-align: right;\n",
       "    }\n",
       "</style>\n",
       "<table border=\"1\" class=\"dataframe\">\n",
       "  <thead>\n",
       "    <tr style=\"text-align: right;\">\n",
       "      <th></th>\n",
       "      <th>title</th>\n",
       "      <th>genres</th>\n",
       "      <th>keywords</th>\n",
       "      <th>overview</th>\n",
       "      <th>cast</th>\n",
       "      <th>crew</th>\n",
       "      <th>production_companies</th>\n",
       "      <th>popularity</th>\n",
       "      <th>revenue</th>\n",
       "      <th>runtime</th>\n",
       "      <th>vote_average</th>\n",
       "      <th>original_language</th>\n",
       "      <th>combined_text</th>\n",
       "    </tr>\n",
       "  </thead>\n",
       "  <tbody>\n",
       "    <tr>\n",
       "      <th>2246</th>\n",
       "      <td>The Cold Light of Day</td>\n",
       "      <td>Action Thriller</td>\n",
       "      <td>kidnapping spying government</td>\n",
       "      <td>A young American uncovers a conspiracy during ...</td>\n",
       "      <td>HenryCavill VerónicaEchegui SigourneyWeaver</td>\n",
       "      <td>MabroukElMechri</td>\n",
       "      <td>SummitEntertainment IntrepidPictures FilmRites...</td>\n",
       "      <td>15.131867</td>\n",
       "      <td>16863583</td>\n",
       "      <td>93.0</td>\n",
       "      <td>4.8</td>\n",
       "      <td>7</td>\n",
       "      <td>Action Thriller kidnapping spying government A...</td>\n",
       "    </tr>\n",
       "  </tbody>\n",
       "</table>\n",
       "</div>"
      ],
      "text/plain": [
       "                      title           genres                      keywords  \\\n",
       "2246  The Cold Light of Day  Action Thriller  kidnapping spying government   \n",
       "\n",
       "                                               overview  \\\n",
       "2246  A young American uncovers a conspiracy during ...   \n",
       "\n",
       "                                             cast             crew  \\\n",
       "2246  HenryCavill VerónicaEchegui SigourneyWeaver  MabroukElMechri   \n",
       "\n",
       "                                   production_companies  popularity   revenue  \\\n",
       "2246  SummitEntertainment IntrepidPictures FilmRites...   15.131867  16863583   \n",
       "\n",
       "      runtime  vote_average  original_language  \\\n",
       "2246     93.0           4.8                  7   \n",
       "\n",
       "                                          combined_text  \n",
       "2246  Action Thriller kidnapping spying government A...  "
      ]
     },
     "execution_count": 2025,
     "metadata": {},
     "output_type": "execute_result"
    }
   ],
   "source": [
    "df.sample()"
   ]
  },
  {
   "cell_type": "code",
   "execution_count": 2026,
   "id": "2f379755-afa7-4839-bebe-202b958cb454",
   "metadata": {},
   "outputs": [],
   "source": [
    "df.drop(columns=['genres','keywords','overview','cast','crew','production_companies'],inplace=True)"
   ]
  },
  {
   "cell_type": "code",
   "execution_count": 2027,
   "id": "1fcbfe84-0eca-4ea8-8fc6-62178a830485",
   "metadata": {},
   "outputs": [
    {
     "data": {
      "text/plain": [
       "title                0\n",
       "popularity           0\n",
       "revenue              0\n",
       "runtime              2\n",
       "vote_average         0\n",
       "original_language    0\n",
       "combined_text        0\n",
       "dtype: int64"
      ]
     },
     "execution_count": 2027,
     "metadata": {},
     "output_type": "execute_result"
    }
   ],
   "source": [
    "df.isnull().sum()"
   ]
  },
  {
   "cell_type": "code",
   "execution_count": 2028,
   "id": "93dc6c5c-a6ed-4565-9885-3167ae82099e",
   "metadata": {},
   "outputs": [
    {
     "name": "stderr",
     "output_type": "stream",
     "text": [
      "[nltk_data] Downloading package punkt to /Users/shivam/nltk_data...\n",
      "[nltk_data]   Package punkt is already up-to-date!\n",
      "[nltk_data] Downloading package stopwords to\n",
      "[nltk_data]     /Users/shivam/nltk_data...\n",
      "[nltk_data]   Package stopwords is already up-to-date!\n"
     ]
    }
   ],
   "source": [
    "import re\n",
    "import nltk\n",
    "from nltk.corpus import stopwords\n",
    "from nltk.tokenize import word_tokenize\n",
    "from nltk.stem import PorterStemmer\n",
    "\n",
    "# Download NLTK data (only needs to be done once)\n",
    "nltk.download('punkt')\n",
    "nltk.download('stopwords')\n",
    "\n",
    "def preprocess_text(text):\n",
    "    # Convert to lowercase\n",
    "    text = text.lower()\n",
    "    \n",
    "    # Remove punctuation and special characters\n",
    "    text = re.sub(r'[^\\w\\s]', '', text)\n",
    "    \n",
    "    # Remove stopwords\n",
    "    stop_words = set(stopwords.words('english'))\n",
    "    \n",
    "    # Tokenize\n",
    "    tokens = word_tokenize(text)\n",
    "    \n",
    "    # Apply stemming\n",
    "    stemmer = PorterStemmer()\n",
    "    stemmed_tokens = [stemmer.stem(word) for word in tokens if word not in stop_words]\n",
    "    \n",
    "    # Reconstruct text from stemmed tokens\n",
    "    processed_text = ' '.join(stemmed_tokens)\n",
    "    \n",
    "    return processed_text"
   ]
  },
  {
   "cell_type": "code",
   "execution_count": 2029,
   "id": "3b74a7a6-4ab8-4323-baf0-d82b53769c50",
   "metadata": {},
   "outputs": [],
   "source": [
    "df['combined_text']=df['combined_text'].apply(preprocess_text)"
   ]
  },
  {
   "cell_type": "code",
   "execution_count": 2030,
   "id": "5a8b0a3f-de3e-496d-82e9-c1407b493657",
   "metadata": {},
   "outputs": [
    {
     "data": {
      "text/plain": [
       "title                0\n",
       "popularity           0\n",
       "revenue              0\n",
       "runtime              2\n",
       "vote_average         0\n",
       "original_language    0\n",
       "combined_text        0\n",
       "dtype: int64"
      ]
     },
     "execution_count": 2030,
     "metadata": {},
     "output_type": "execute_result"
    }
   ],
   "source": [
    "df.isnull().sum()"
   ]
  },
  {
   "cell_type": "code",
   "execution_count": 2031,
   "id": "9828f23d-a3b5-4243-92f7-7a9e16147e71",
   "metadata": {},
   "outputs": [
    {
     "data": {
      "text/html": [
       "<div>\n",
       "<style scoped>\n",
       "    .dataframe tbody tr th:only-of-type {\n",
       "        vertical-align: middle;\n",
       "    }\n",
       "\n",
       "    .dataframe tbody tr th {\n",
       "        vertical-align: top;\n",
       "    }\n",
       "\n",
       "    .dataframe thead th {\n",
       "        text-align: right;\n",
       "    }\n",
       "</style>\n",
       "<table border=\"1\" class=\"dataframe\">\n",
       "  <thead>\n",
       "    <tr style=\"text-align: right;\">\n",
       "      <th></th>\n",
       "      <th>title</th>\n",
       "      <th>popularity</th>\n",
       "      <th>revenue</th>\n",
       "      <th>runtime</th>\n",
       "      <th>vote_average</th>\n",
       "      <th>original_language</th>\n",
       "      <th>combined_text</th>\n",
       "    </tr>\n",
       "  </thead>\n",
       "  <tbody>\n",
       "    <tr>\n",
       "      <th>2658</th>\n",
       "      <td>Chiamatemi Francesco - Il Papa della gente</td>\n",
       "      <td>0.738646</td>\n",
       "      <td>0</td>\n",
       "      <td>NaN</td>\n",
       "      <td>7.3</td>\n",
       "      <td>16</td>\n",
       "      <td>drama pope biographi nan rodrigodelaserna serg...</td>\n",
       "    </tr>\n",
       "    <tr>\n",
       "      <th>4145</th>\n",
       "      <td>To Be Frank, Sinatra at 100</td>\n",
       "      <td>0.050625</td>\n",
       "      <td>0</td>\n",
       "      <td>NaN</td>\n",
       "      <td>0.0</td>\n",
       "      <td>7</td>\n",
       "      <td>documentari music actor legendari perfom class...</td>\n",
       "    </tr>\n",
       "  </tbody>\n",
       "</table>\n",
       "</div>"
      ],
      "text/plain": [
       "                                           title  popularity  revenue  \\\n",
       "2658  Chiamatemi Francesco - Il Papa della gente    0.738646        0   \n",
       "4145                 To Be Frank, Sinatra at 100    0.050625        0   \n",
       "\n",
       "      runtime  vote_average  original_language  \\\n",
       "2658      NaN           7.3                 16   \n",
       "4145      NaN           0.0                  7   \n",
       "\n",
       "                                          combined_text  \n",
       "2658  drama pope biographi nan rodrigodelaserna serg...  \n",
       "4145  documentari music actor legendari perfom class...  "
      ]
     },
     "execution_count": 2031,
     "metadata": {},
     "output_type": "execute_result"
    }
   ],
   "source": [
    "df[df['runtime'].isnull()]"
   ]
  },
  {
   "cell_type": "code",
   "execution_count": 2032,
   "id": "18d7058c-a51e-4b25-9ce9-bd2e6e3d4850",
   "metadata": {},
   "outputs": [],
   "source": [
    "df.dropna(inplace=True)"
   ]
  },
  {
   "cell_type": "code",
   "execution_count": 2033,
   "id": "28fb4808-82c7-4898-9053-4e5f34d26bb4",
   "metadata": {},
   "outputs": [
    {
     "data": {
      "text/html": [
       "<div>\n",
       "<style scoped>\n",
       "    .dataframe tbody tr th:only-of-type {\n",
       "        vertical-align: middle;\n",
       "    }\n",
       "\n",
       "    .dataframe tbody tr th {\n",
       "        vertical-align: top;\n",
       "    }\n",
       "\n",
       "    .dataframe thead th {\n",
       "        text-align: right;\n",
       "    }\n",
       "</style>\n",
       "<table border=\"1\" class=\"dataframe\">\n",
       "  <thead>\n",
       "    <tr style=\"text-align: right;\">\n",
       "      <th></th>\n",
       "      <th>title</th>\n",
       "      <th>popularity</th>\n",
       "      <th>revenue</th>\n",
       "      <th>runtime</th>\n",
       "      <th>vote_average</th>\n",
       "      <th>original_language</th>\n",
       "      <th>combined_text</th>\n",
       "    </tr>\n",
       "  </thead>\n",
       "  <tbody>\n",
       "    <tr>\n",
       "      <th>2943</th>\n",
       "      <td>Tomcats</td>\n",
       "      <td>7.063053</td>\n",
       "      <td>23430766</td>\n",
       "      <td>95.0</td>\n",
       "      <td>4.9</td>\n",
       "      <td>7</td>\n",
       "      <td>comedi romanc compuls gambl roulett stag night...</td>\n",
       "    </tr>\n",
       "  </tbody>\n",
       "</table>\n",
       "</div>"
      ],
      "text/plain": [
       "        title  popularity   revenue  runtime  vote_average  original_language  \\\n",
       "2943  Tomcats    7.063053  23430766     95.0           4.9                  7   \n",
       "\n",
       "                                          combined_text  \n",
       "2943  comedi romanc compuls gambl roulett stag night...  "
      ]
     },
     "execution_count": 2033,
     "metadata": {},
     "output_type": "execute_result"
    }
   ],
   "source": [
    "df.sample()"
   ]
  },
  {
   "cell_type": "code",
   "execution_count": 2034,
   "id": "c14e70e2-51f3-45f9-966b-187c70e7d4d2",
   "metadata": {},
   "outputs": [
    {
     "name": "stdout",
     "output_type": "stream",
     "text": [
      "<class 'pandas.core.frame.DataFrame'>\n",
      "Index: 4807 entries, 0 to 4808\n",
      "Data columns (total 7 columns):\n",
      " #   Column             Non-Null Count  Dtype  \n",
      "---  ------             --------------  -----  \n",
      " 0   title              4807 non-null   object \n",
      " 1   popularity         4807 non-null   float64\n",
      " 2   revenue            4807 non-null   int64  \n",
      " 3   runtime            4807 non-null   float64\n",
      " 4   vote_average       4807 non-null   float64\n",
      " 5   original_language  4807 non-null   int64  \n",
      " 6   combined_text      4807 non-null   object \n",
      "dtypes: float64(3), int64(2), object(2)\n",
      "memory usage: 300.4+ KB\n"
     ]
    }
   ],
   "source": [
    "df.info()"
   ]
  },
  {
   "cell_type": "code",
   "execution_count": 2035,
   "id": "a7809c04-1cf7-4164-8506-42082ca7b6a3",
   "metadata": {},
   "outputs": [],
   "source": [
    "from sklearn.preprocessing import MinMaxScaler\n",
    "from sklearn.metrics.pairwise import cosine_similarity"
   ]
  },
  {
   "cell_type": "code",
   "execution_count": 2036,
   "id": "27b441b5-a4f0-4eec-9a3d-6fb291659643",
   "metadata": {},
   "outputs": [],
   "source": [
    "df.reset_index(inplace=True)"
   ]
  },
  {
   "cell_type": "code",
   "execution_count": 2037,
   "id": "05e03c04-1613-406b-9d97-c9ef20552ac0",
   "metadata": {},
   "outputs": [
    {
     "data": {
      "text/plain": [
       "index                                                              803\n",
       "title                                                      DragonHeart\n",
       "popularity                                                   31.791979\n",
       "revenue                                                      115267375\n",
       "runtime                                                          103.0\n",
       "vote_average                                                       6.4\n",
       "original_language                                                    7\n",
       "combined_text        fantasi magic kingdom despot immort villag for...\n",
       "Name: 803, dtype: object"
      ]
     },
     "execution_count": 2037,
     "metadata": {},
     "output_type": "execute_result"
    }
   ],
   "source": [
    "df.iloc[803]"
   ]
  },
  {
   "cell_type": "code",
   "execution_count": 2038,
   "id": "b554e591-e0aa-4c76-a85e-697ac057683b",
   "metadata": {},
   "outputs": [
    {
     "data": {
      "text/html": [
       "<div>\n",
       "<style scoped>\n",
       "    .dataframe tbody tr th:only-of-type {\n",
       "        vertical-align: middle;\n",
       "    }\n",
       "\n",
       "    .dataframe tbody tr th {\n",
       "        vertical-align: top;\n",
       "    }\n",
       "\n",
       "    .dataframe thead th {\n",
       "        text-align: right;\n",
       "    }\n",
       "</style>\n",
       "<table border=\"1\" class=\"dataframe\">\n",
       "  <thead>\n",
       "    <tr style=\"text-align: right;\">\n",
       "      <th></th>\n",
       "      <th>index</th>\n",
       "      <th>title</th>\n",
       "      <th>popularity</th>\n",
       "      <th>revenue</th>\n",
       "      <th>runtime</th>\n",
       "      <th>vote_average</th>\n",
       "      <th>original_language</th>\n",
       "      <th>combined_text</th>\n",
       "    </tr>\n",
       "  </thead>\n",
       "  <tbody>\n",
       "    <tr>\n",
       "      <th>0</th>\n",
       "      <td>0</td>\n",
       "      <td>Avatar</td>\n",
       "      <td>150.437577</td>\n",
       "      <td>2787965087</td>\n",
       "      <td>162.0</td>\n",
       "      <td>7.2</td>\n",
       "      <td>7</td>\n",
       "      <td>action adventur fantasi sciencefict cultur cla...</td>\n",
       "    </tr>\n",
       "    <tr>\n",
       "      <th>1</th>\n",
       "      <td>1</td>\n",
       "      <td>Pirates of the Caribbean: At World's End</td>\n",
       "      <td>139.082615</td>\n",
       "      <td>961000000</td>\n",
       "      <td>169.0</td>\n",
       "      <td>6.9</td>\n",
       "      <td>7</td>\n",
       "      <td>adventur fantasi action ocean drug abus exot i...</td>\n",
       "    </tr>\n",
       "    <tr>\n",
       "      <th>2</th>\n",
       "      <td>2</td>\n",
       "      <td>Spectre</td>\n",
       "      <td>107.376788</td>\n",
       "      <td>880674609</td>\n",
       "      <td>148.0</td>\n",
       "      <td>6.3</td>\n",
       "      <td>7</td>\n",
       "      <td>action adventur crime spi base novel secret ag...</td>\n",
       "    </tr>\n",
       "    <tr>\n",
       "      <th>3</th>\n",
       "      <td>3</td>\n",
       "      <td>The Dark Knight Rises</td>\n",
       "      <td>112.312950</td>\n",
       "      <td>1084939099</td>\n",
       "      <td>165.0</td>\n",
       "      <td>7.6</td>\n",
       "      <td>7</td>\n",
       "      <td>action crime drama thriller dc comic crime fig...</td>\n",
       "    </tr>\n",
       "    <tr>\n",
       "      <th>4</th>\n",
       "      <td>4</td>\n",
       "      <td>John Carter</td>\n",
       "      <td>43.926995</td>\n",
       "      <td>284139100</td>\n",
       "      <td>132.0</td>\n",
       "      <td>6.1</td>\n",
       "      <td>7</td>\n",
       "      <td>action adventur sciencefict base novel mar med...</td>\n",
       "    </tr>\n",
       "    <tr>\n",
       "      <th>5</th>\n",
       "      <td>5</td>\n",
       "      <td>Spider-Man 3</td>\n",
       "      <td>115.699814</td>\n",
       "      <td>890871626</td>\n",
       "      <td>139.0</td>\n",
       "      <td>5.9</td>\n",
       "      <td>7</td>\n",
       "      <td>fantasi action adventur dual ident amnesia san...</td>\n",
       "    </tr>\n",
       "  </tbody>\n",
       "</table>\n",
       "</div>"
      ],
      "text/plain": [
       "   index                                     title  popularity     revenue  \\\n",
       "0      0                                    Avatar  150.437577  2787965087   \n",
       "1      1  Pirates of the Caribbean: At World's End  139.082615   961000000   \n",
       "2      2                                   Spectre  107.376788   880674609   \n",
       "3      3                     The Dark Knight Rises  112.312950  1084939099   \n",
       "4      4                               John Carter   43.926995   284139100   \n",
       "5      5                              Spider-Man 3  115.699814   890871626   \n",
       "\n",
       "   runtime  vote_average  original_language  \\\n",
       "0    162.0           7.2                  7   \n",
       "1    169.0           6.9                  7   \n",
       "2    148.0           6.3                  7   \n",
       "3    165.0           7.6                  7   \n",
       "4    132.0           6.1                  7   \n",
       "5    139.0           5.9                  7   \n",
       "\n",
       "                                       combined_text  \n",
       "0  action adventur fantasi sciencefict cultur cla...  \n",
       "1  adventur fantasi action ocean drug abus exot i...  \n",
       "2  action adventur crime spi base novel secret ag...  \n",
       "3  action crime drama thriller dc comic crime fig...  \n",
       "4  action adventur sciencefict base novel mar med...  \n",
       "5  fantasi action adventur dual ident amnesia san...  "
      ]
     },
     "execution_count": 2038,
     "metadata": {},
     "output_type": "execute_result"
    }
   ],
   "source": [
    "df.head(6)"
   ]
  },
  {
   "cell_type": "code",
   "execution_count": 2039,
   "id": "ad319b39-24c3-48e7-a228-fab243fcf520",
   "metadata": {},
   "outputs": [],
   "source": [
    "from sklearn.feature_extraction.text import CountVectorizer\n",
    "cv = CountVectorizer(max_features=5000)\n",
    "title=df[['title']]\n",
    "text_features = df['combined_text']\n",
    "numerical_features = df[['popularity', 'revenue', 'runtime', 'vote_average','original_language']]\n",
    "text_vectors = cv.fit_transform(text_features)\n",
    "scaler = MinMaxScaler()\n",
    "numerical_scaled = scaler.fit_transform(numerical_features)"
   ]
  },
  {
   "cell_type": "code",
   "execution_count": 2040,
   "id": "8190aa26-1fd6-4edd-9463-b5bc1af2d098",
   "metadata": {},
   "outputs": [],
   "source": [
    "combined_features = np.hstack((title,text_vectors.toarray(), numerical_scaled))"
   ]
  },
  {
   "cell_type": "code",
   "execution_count": 2061,
   "id": "39ace097-5939-4cc0-b8ff-3a4ddee000cf",
   "metadata": {},
   "outputs": [
    {
     "data": {
      "text/plain": [
       "array([['Avatar', 0, 0, ..., 0.47928994082840237, 0.7200000000000001,\n",
       "        0.19444444444444442],\n",
       "       [\"Pirates of the Caribbean: At World's End\", 0, 0, ..., 0.5,\n",
       "        0.6900000000000001, 0.19444444444444442],\n",
       "       ['Spectre', 0, 0, ..., 0.4378698224852071, 0.63,\n",
       "        0.19444444444444442],\n",
       "       ...,\n",
       "       ['Signed, Sealed, Delivered', 0, 0, ..., 0.35502958579881655,\n",
       "        0.7000000000000001, 0.19444444444444442],\n",
       "       ['Shanghai Calling', 0, 0, ..., 0.28994082840236685,\n",
       "        0.5700000000000001, 0.19444444444444442],\n",
       "       ['My Date with Drew', 0, 0, ..., 0.2662721893491124, 0.63,\n",
       "        0.19444444444444442]], dtype=object)"
      ]
     },
     "execution_count": 2061,
     "metadata": {},
     "output_type": "execute_result"
    }
   ],
   "source": [
    "combined_features"
   ]
  },
  {
   "cell_type": "code",
   "execution_count": 2062,
   "id": "14bd27db-44e0-4b74-b246-c1a518f28667",
   "metadata": {},
   "outputs": [
    {
     "data": {
      "text/html": [
       "<div>\n",
       "<style scoped>\n",
       "    .dataframe tbody tr th:only-of-type {\n",
       "        vertical-align: middle;\n",
       "    }\n",
       "\n",
       "    .dataframe tbody tr th {\n",
       "        vertical-align: top;\n",
       "    }\n",
       "\n",
       "    .dataframe thead th {\n",
       "        text-align: right;\n",
       "    }\n",
       "</style>\n",
       "<table border=\"1\" class=\"dataframe\">\n",
       "  <thead>\n",
       "    <tr style=\"text-align: right;\">\n",
       "      <th></th>\n",
       "      <th>0</th>\n",
       "      <th>1</th>\n",
       "      <th>2</th>\n",
       "      <th>3</th>\n",
       "      <th>4</th>\n",
       "      <th>5</th>\n",
       "      <th>6</th>\n",
       "      <th>7</th>\n",
       "      <th>8</th>\n",
       "      <th>9</th>\n",
       "      <th>...</th>\n",
       "      <th>4996</th>\n",
       "      <th>4997</th>\n",
       "      <th>4998</th>\n",
       "      <th>4999</th>\n",
       "      <th>5000</th>\n",
       "      <th>5001</th>\n",
       "      <th>5002</th>\n",
       "      <th>5003</th>\n",
       "      <th>5004</th>\n",
       "      <th>5005</th>\n",
       "    </tr>\n",
       "  </thead>\n",
       "  <tbody>\n",
       "    <tr>\n",
       "      <th>0</th>\n",
       "      <td>Avatar</td>\n",
       "      <td>0</td>\n",
       "      <td>0</td>\n",
       "      <td>0</td>\n",
       "      <td>0</td>\n",
       "      <td>0</td>\n",
       "      <td>0</td>\n",
       "      <td>0</td>\n",
       "      <td>0</td>\n",
       "      <td>0</td>\n",
       "      <td>...</td>\n",
       "      <td>1</td>\n",
       "      <td>0</td>\n",
       "      <td>0</td>\n",
       "      <td>0</td>\n",
       "      <td>0</td>\n",
       "      <td>0.171815</td>\n",
       "      <td>1.0</td>\n",
       "      <td>0.47929</td>\n",
       "      <td>0.72</td>\n",
       "      <td>0.194444</td>\n",
       "    </tr>\n",
       "    <tr>\n",
       "      <th>1</th>\n",
       "      <td>Pirates of the Caribbean: At World's End</td>\n",
       "      <td>0</td>\n",
       "      <td>0</td>\n",
       "      <td>0</td>\n",
       "      <td>0</td>\n",
       "      <td>0</td>\n",
       "      <td>0</td>\n",
       "      <td>0</td>\n",
       "      <td>0</td>\n",
       "      <td>0</td>\n",
       "      <td>...</td>\n",
       "      <td>0</td>\n",
       "      <td>0</td>\n",
       "      <td>0</td>\n",
       "      <td>0</td>\n",
       "      <td>0</td>\n",
       "      <td>0.158846</td>\n",
       "      <td>0.344696</td>\n",
       "      <td>0.5</td>\n",
       "      <td>0.69</td>\n",
       "      <td>0.194444</td>\n",
       "    </tr>\n",
       "    <tr>\n",
       "      <th>2</th>\n",
       "      <td>Spectre</td>\n",
       "      <td>0</td>\n",
       "      <td>0</td>\n",
       "      <td>0</td>\n",
       "      <td>0</td>\n",
       "      <td>0</td>\n",
       "      <td>0</td>\n",
       "      <td>0</td>\n",
       "      <td>0</td>\n",
       "      <td>0</td>\n",
       "      <td>...</td>\n",
       "      <td>0</td>\n",
       "      <td>0</td>\n",
       "      <td>0</td>\n",
       "      <td>0</td>\n",
       "      <td>0</td>\n",
       "      <td>0.122635</td>\n",
       "      <td>0.315884</td>\n",
       "      <td>0.43787</td>\n",
       "      <td>0.63</td>\n",
       "      <td>0.194444</td>\n",
       "    </tr>\n",
       "    <tr>\n",
       "      <th>3</th>\n",
       "      <td>The Dark Knight Rises</td>\n",
       "      <td>0</td>\n",
       "      <td>0</td>\n",
       "      <td>0</td>\n",
       "      <td>0</td>\n",
       "      <td>0</td>\n",
       "      <td>0</td>\n",
       "      <td>0</td>\n",
       "      <td>0</td>\n",
       "      <td>0</td>\n",
       "      <td>...</td>\n",
       "      <td>0</td>\n",
       "      <td>0</td>\n",
       "      <td>0</td>\n",
       "      <td>0</td>\n",
       "      <td>0</td>\n",
       "      <td>0.128272</td>\n",
       "      <td>0.389151</td>\n",
       "      <td>0.488166</td>\n",
       "      <td>0.76</td>\n",
       "      <td>0.194444</td>\n",
       "    </tr>\n",
       "    <tr>\n",
       "      <th>4</th>\n",
       "      <td>John Carter</td>\n",
       "      <td>0</td>\n",
       "      <td>0</td>\n",
       "      <td>0</td>\n",
       "      <td>0</td>\n",
       "      <td>0</td>\n",
       "      <td>0</td>\n",
       "      <td>0</td>\n",
       "      <td>0</td>\n",
       "      <td>0</td>\n",
       "      <td>...</td>\n",
       "      <td>0</td>\n",
       "      <td>0</td>\n",
       "      <td>0</td>\n",
       "      <td>0</td>\n",
       "      <td>0</td>\n",
       "      <td>0.050169</td>\n",
       "      <td>0.101916</td>\n",
       "      <td>0.390533</td>\n",
       "      <td>0.61</td>\n",
       "      <td>0.194444</td>\n",
       "    </tr>\n",
       "    <tr>\n",
       "      <th>...</th>\n",
       "      <td>...</td>\n",
       "      <td>...</td>\n",
       "      <td>...</td>\n",
       "      <td>...</td>\n",
       "      <td>...</td>\n",
       "      <td>...</td>\n",
       "      <td>...</td>\n",
       "      <td>...</td>\n",
       "      <td>...</td>\n",
       "      <td>...</td>\n",
       "      <td>...</td>\n",
       "      <td>...</td>\n",
       "      <td>...</td>\n",
       "      <td>...</td>\n",
       "      <td>...</td>\n",
       "      <td>...</td>\n",
       "      <td>...</td>\n",
       "      <td>...</td>\n",
       "      <td>...</td>\n",
       "      <td>...</td>\n",
       "      <td>...</td>\n",
       "    </tr>\n",
       "    <tr>\n",
       "      <th>4802</th>\n",
       "      <td>El Mariachi</td>\n",
       "      <td>0</td>\n",
       "      <td>0</td>\n",
       "      <td>0</td>\n",
       "      <td>0</td>\n",
       "      <td>0</td>\n",
       "      <td>0</td>\n",
       "      <td>0</td>\n",
       "      <td>0</td>\n",
       "      <td>0</td>\n",
       "      <td>...</td>\n",
       "      <td>0</td>\n",
       "      <td>0</td>\n",
       "      <td>0</td>\n",
       "      <td>0</td>\n",
       "      <td>0</td>\n",
       "      <td>0.016298</td>\n",
       "      <td>0.000732</td>\n",
       "      <td>0.239645</td>\n",
       "      <td>0.66</td>\n",
       "      <td>0.222222</td>\n",
       "    </tr>\n",
       "    <tr>\n",
       "      <th>4803</th>\n",
       "      <td>Newlyweds</td>\n",
       "      <td>0</td>\n",
       "      <td>0</td>\n",
       "      <td>0</td>\n",
       "      <td>0</td>\n",
       "      <td>0</td>\n",
       "      <td>0</td>\n",
       "      <td>0</td>\n",
       "      <td>0</td>\n",
       "      <td>0</td>\n",
       "      <td>...</td>\n",
       "      <td>0</td>\n",
       "      <td>0</td>\n",
       "      <td>0</td>\n",
       "      <td>0</td>\n",
       "      <td>0</td>\n",
       "      <td>0.000734</td>\n",
       "      <td>0.0</td>\n",
       "      <td>0.251479</td>\n",
       "      <td>0.59</td>\n",
       "      <td>0.194444</td>\n",
       "    </tr>\n",
       "    <tr>\n",
       "      <th>4804</th>\n",
       "      <td>Signed, Sealed, Delivered</td>\n",
       "      <td>0</td>\n",
       "      <td>0</td>\n",
       "      <td>0</td>\n",
       "      <td>0</td>\n",
       "      <td>0</td>\n",
       "      <td>0</td>\n",
       "      <td>0</td>\n",
       "      <td>0</td>\n",
       "      <td>0</td>\n",
       "      <td>...</td>\n",
       "      <td>0</td>\n",
       "      <td>0</td>\n",
       "      <td>0</td>\n",
       "      <td>0</td>\n",
       "      <td>0</td>\n",
       "      <td>0.00165</td>\n",
       "      <td>0.0</td>\n",
       "      <td>0.35503</td>\n",
       "      <td>0.7</td>\n",
       "      <td>0.194444</td>\n",
       "    </tr>\n",
       "    <tr>\n",
       "      <th>4805</th>\n",
       "      <td>Shanghai Calling</td>\n",
       "      <td>0</td>\n",
       "      <td>0</td>\n",
       "      <td>0</td>\n",
       "      <td>0</td>\n",
       "      <td>0</td>\n",
       "      <td>0</td>\n",
       "      <td>0</td>\n",
       "      <td>0</td>\n",
       "      <td>0</td>\n",
       "      <td>...</td>\n",
       "      <td>0</td>\n",
       "      <td>0</td>\n",
       "      <td>0</td>\n",
       "      <td>0</td>\n",
       "      <td>0</td>\n",
       "      <td>0.000979</td>\n",
       "      <td>0.0</td>\n",
       "      <td>0.289941</td>\n",
       "      <td>0.57</td>\n",
       "      <td>0.194444</td>\n",
       "    </tr>\n",
       "    <tr>\n",
       "      <th>4806</th>\n",
       "      <td>My Date with Drew</td>\n",
       "      <td>0</td>\n",
       "      <td>0</td>\n",
       "      <td>0</td>\n",
       "      <td>0</td>\n",
       "      <td>0</td>\n",
       "      <td>0</td>\n",
       "      <td>0</td>\n",
       "      <td>0</td>\n",
       "      <td>0</td>\n",
       "      <td>...</td>\n",
       "      <td>0</td>\n",
       "      <td>0</td>\n",
       "      <td>0</td>\n",
       "      <td>0</td>\n",
       "      <td>0</td>\n",
       "      <td>0.002204</td>\n",
       "      <td>0.0</td>\n",
       "      <td>0.266272</td>\n",
       "      <td>0.63</td>\n",
       "      <td>0.194444</td>\n",
       "    </tr>\n",
       "  </tbody>\n",
       "</table>\n",
       "<p>4807 rows × 5006 columns</p>\n",
       "</div>"
      ],
      "text/plain": [
       "                                          0    1    2    3    4    5    6     \\\n",
       "0                                       Avatar    0    0    0    0    0    0   \n",
       "1     Pirates of the Caribbean: At World's End    0    0    0    0    0    0   \n",
       "2                                      Spectre    0    0    0    0    0    0   \n",
       "3                        The Dark Knight Rises    0    0    0    0    0    0   \n",
       "4                                  John Carter    0    0    0    0    0    0   \n",
       "...                                        ...  ...  ...  ...  ...  ...  ...   \n",
       "4802                               El Mariachi    0    0    0    0    0    0   \n",
       "4803                                 Newlyweds    0    0    0    0    0    0   \n",
       "4804                 Signed, Sealed, Delivered    0    0    0    0    0    0   \n",
       "4805                          Shanghai Calling    0    0    0    0    0    0   \n",
       "4806                         My Date with Drew    0    0    0    0    0    0   \n",
       "\n",
       "     7    8    9     ... 4996 4997 4998 4999 5000      5001      5002  \\\n",
       "0       0    0    0  ...    1    0    0    0    0  0.171815       1.0   \n",
       "1       0    0    0  ...    0    0    0    0    0  0.158846  0.344696   \n",
       "2       0    0    0  ...    0    0    0    0    0  0.122635  0.315884   \n",
       "3       0    0    0  ...    0    0    0    0    0  0.128272  0.389151   \n",
       "4       0    0    0  ...    0    0    0    0    0  0.050169  0.101916   \n",
       "...   ...  ...  ...  ...  ...  ...  ...  ...  ...       ...       ...   \n",
       "4802    0    0    0  ...    0    0    0    0    0  0.016298  0.000732   \n",
       "4803    0    0    0  ...    0    0    0    0    0  0.000734       0.0   \n",
       "4804    0    0    0  ...    0    0    0    0    0   0.00165       0.0   \n",
       "4805    0    0    0  ...    0    0    0    0    0  0.000979       0.0   \n",
       "4806    0    0    0  ...    0    0    0    0    0  0.002204       0.0   \n",
       "\n",
       "          5003  5004      5005  \n",
       "0      0.47929  0.72  0.194444  \n",
       "1          0.5  0.69  0.194444  \n",
       "2      0.43787  0.63  0.194444  \n",
       "3     0.488166  0.76  0.194444  \n",
       "4     0.390533  0.61  0.194444  \n",
       "...        ...   ...       ...  \n",
       "4802  0.239645  0.66  0.222222  \n",
       "4803  0.251479  0.59  0.194444  \n",
       "4804   0.35503   0.7  0.194444  \n",
       "4805  0.289941  0.57  0.194444  \n",
       "4806  0.266272  0.63  0.194444  \n",
       "\n",
       "[4807 rows x 5006 columns]"
      ]
     },
     "execution_count": 2062,
     "metadata": {},
     "output_type": "execute_result"
    }
   ],
   "source": [
    "df=pd.DataFrame(combined_features)\n",
    "df.iloc[:,:]"
   ]
  },
  {
   "cell_type": "code",
   "execution_count": 2054,
   "id": "fc6c8ed2-1efd-4199-bce9-3bef1465797c",
   "metadata": {},
   "outputs": [
    {
     "data": {
      "text/plain": [
       "array([[1.        , 0.08396071, 0.0646824 , ..., 0.08169037, 0.02847767,\n",
       "        0.00975327],\n",
       "       [0.08396071, 1.        , 0.07667806, ..., 0.06628779, 0.0129559 ,\n",
       "        0.03169214],\n",
       "       [0.0646824 , 0.07667806, 1.        , ..., 0.04635535, 0.01156635,\n",
       "        0.01068608],\n",
       "       ...,\n",
       "       [0.08169037, 0.06628779, 0.04635535, ..., 1.        , 0.05005371,\n",
       "        0.04451261],\n",
       "       [0.02847767, 0.0129559 , 0.01156635, ..., 0.05005371, 1.        ,\n",
       "        0.03198794],\n",
       "       [0.00975327, 0.03169214, 0.01068608, ..., 0.04451261, 0.03198794,\n",
       "        1.        ]])"
      ]
     },
     "execution_count": 2054,
     "metadata": {},
     "output_type": "execute_result"
    }
   ],
   "source": [
    "similarity_matrix = cosine_similarity(df.iloc[:,1:])\n",
    "similarity_matrix"
   ]
  },
  {
   "cell_type": "code",
   "execution_count": 2056,
   "id": "5e8ac424-244d-4d84-bd35-5e853de4e15d",
   "metadata": {},
   "outputs": [
    {
     "data": {
      "text/plain": [
       "2405            Aliens\n",
       "4336    Silent Running\n",
       "838             Alien³\n",
       "3160             Alien\n",
       "1533         Moonraker\n",
       "Name: 0, dtype: object"
      ]
     },
     "execution_count": 2056,
     "metadata": {},
     "output_type": "execute_result"
    }
   ],
   "source": [
    "def recommend(i,similarity_matrix):\n",
    "    movie_similarity_scores = similarity_matrix[i]\n",
    "        \n",
    "        # Get the indices of the top N most similar movies (excluding the movie itself)\n",
    "    similar_indices = movie_similarity_scores.argsort()[-5-1:-1][::-1]\n",
    "        \n",
    "        # Return the recommended movies\n",
    "    df.iloc[similar_indices][0]"
   ]
  },
  {
   "cell_type": "code",
   "execution_count": 2060,
   "id": "e39f4313-7db0-4843-aa80-3bb1ffc82677",
   "metadata": {},
   "outputs": [],
   "source": [
    "movie_list=list(df.iloc[:,0])"
   ]
  },
  {
   "cell_type": "code",
   "execution_count": 2066,
   "id": "45ce4e15-5696-4671-be07-1b487e0ca364",
   "metadata": {},
   "outputs": [],
   "source": [
    "import pickle\n",
    "pickle.dump(similarity_matrix,open('similarity.pkl','wb'))\n",
    "pickle.dump(movie_list,open('movie.pkl','wb'))\n",
    "pickle.dump(df,open('df.pkl','wb'))"
   ]
  },
  {
   "cell_type": "code",
   "execution_count": null,
   "id": "64efb08c-d438-4933-b1ac-aa721b589f49",
   "metadata": {},
   "outputs": [],
   "source": [
    "import streamlit as st\n",
    "import pickle\n",
    "import pandas as pd\n",
    "\n",
    "# Load the similarity matrix\n",
    "with open('similarity.pkl', 'rb') as file:\n",
    "    similarity_matrix = pickle.load(file)\n",
    "\n",
    "with open('movie.pkl', 'rb') as file:\n",
    "    movie_list = pickle.load(file)\n",
    "\n",
    "with open('df.pkl', 'rb') as file:\n",
    "    df = pickle.load(file)\n",
    "\n",
    "\n",
    "def recommend(i, similarity_matrix):\n",
    "    movie_similarity_scores = similarity_matrix[i]\n",
    "\n",
    "    # Get the indices of the top N most similar movies (excluding the movie itself)\n",
    "    similar_indices = movie_similarity_scores.argsort()[-5 - 1:-1][::-1]\n",
    "\n",
    "    # Return the recommended movies\n",
    "    return df.iloc[similar_indices][0]\n",
    "\n",
    "\n",
    "# Create a DataFrame for movie_list\n",
    "df_movies = pd.DataFrame(movie_list, columns=['title'])\n",
    "\n",
    "# Streamlit app\n",
    "st.title('Movie Recommendation System')\n",
    "\n",
    "# Dropdown to select a movie\n",
    "selected_movie = st.selectbox('Choose a movie:', movie_list)\n",
    "\n",
    "# Find the index of the selected movie\n",
    "selected_movie_index = df_movies[df_movies['title'] == selected_movie].index[0]\n",
    "\n",
    "if st.button('Recommend'):\n",
    "    # Get recommendations\n",
    "    st.write(recommend(selected_movie_index,similarity_matrix))"
   ]
  },
  {
   "cell_type": "code",
   "execution_count": 2067,
   "id": "51ad7ddc-be56-4a4c-8772-5dd86d6fcaca",
   "metadata": {},
   "outputs": [
    {
     "data": {
      "text/plain": [
       "['similarity_joblib.pkl']"
      ]
     },
     "execution_count": 2067,
     "metadata": {},
     "output_type": "execute_result"
    }
   ],
   "source": [
    "import joblib\n",
    "\n",
    "# Save the matrix with joblib\n",
    "joblib.dump(similarity_matrix, 'similarity_joblib.pkl', compress=3)  # compress level 3\n"
   ]
  },
  {
   "cell_type": "code",
   "execution_count": null,
   "id": "54caf967-11d8-45ff-9e81-7293a4932bb8",
   "metadata": {},
   "outputs": [],
   "source": []
  }
 ],
 "metadata": {
  "kernelspec": {
   "display_name": "Python 3 (ipykernel)",
   "language": "python",
   "name": "python3"
  },
  "language_info": {
   "codemirror_mode": {
    "name": "ipython",
    "version": 3
   },
   "file_extension": ".py",
   "mimetype": "text/x-python",
   "name": "python",
   "nbconvert_exporter": "python",
   "pygments_lexer": "ipython3",
   "version": "3.11.7"
  }
 },
 "nbformat": 4,
 "nbformat_minor": 5
}
